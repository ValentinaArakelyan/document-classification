{
 "cells": [
  {
   "cell_type": "code",
   "execution_count": 10,
   "metadata": {},
   "outputs": [],
   "source": [
    "import numpy as np\n",
    "import pandas as pd\n",
    "import matplotlib.pyplot as plt\n",
    "import ast\n",
    "from nltk import sent_tokenize\n",
    "from sentence_transformers import SentenceTransformer\n",
    "from sklearn.decomposition import PCA\n",
    "from sklearn.manifold import TSNE\n",
    "from tqdm import tqdm\n",
    "import random"
   ]
  },
  {
   "cell_type": "code",
   "execution_count": 2,
   "metadata": {
    "scrolled": true
   },
   "outputs": [],
   "source": [
    "dataset = pd.read_csv('papers_dataset.csv')\n",
    "dataset.keywords = dataset.keywords.apply(ast.literal_eval)\n",
    "dataset.sections = dataset.sections.apply(ast.literal_eval)"
   ]
  },
  {
   "cell_type": "code",
   "execution_count": 45,
   "metadata": {},
   "outputs": [
    {
     "data": {
      "text/plain": [
       "(510, 13)"
      ]
     },
     "execution_count": 45,
     "metadata": {},
     "output_type": "execute_result"
    }
   ],
   "source": [
    "dataset.shape"
   ]
  },
  {
   "cell_type": "code",
   "execution_count": 40,
   "metadata": {},
   "outputs": [],
   "source": [
    "'''\n",
    "random.seed(123)\n",
    "categories = list(dataset.category.value_counts().keys())\n",
    "test_set = set()\n",
    "for i in categories:\n",
    "    paper_titles = dataset[dataset.category == i].title.values\n",
    "    test_set = test_set.union(set(random.sample(list(paper_titles), 3)))\n",
    "    \n",
    "dataset['partition'] = ['test' if i in test_set else 'train' for i in dataset.title.values]\n",
    "dataset['paper_id'] = [f'paper_{i}' for i in range(dataset.shape[0])]\n",
    "cols = list(dataset.columns[-1:]) + list(dataset.columns[:-1])\n",
    "dataset = dataset[cols]\n",
    "dataset.to_csv('papers_dataset.csv', index = False)\n",
    "'''"
   ]
  },
  {
   "cell_type": "code",
   "execution_count": 11,
   "metadata": {},
   "outputs": [
    {
     "name": "stderr",
     "output_type": "stream",
     "text": [
      "510it [00:07, 71.90it/s]\n"
     ]
    }
   ],
   "source": [
    "all_sentences = []\n",
    "categories = []\n",
    "\n",
    "for row in tqdm(dataset.iterrows()):\n",
    "    cat = row[1]['category']\n",
    "    abstract_sents = sent_tokenize(row[1]['abstract'])\n",
    "    all_sentences += abstract_sents\n",
    "    categories += [cat] * len(abstract_sents)\n",
    "    \n",
    "    sections = list(row[1]['sections'].values())\n",
    "    for section in sections:\n",
    "        section_sents = sent_tokenize(section)\n",
    "        all_sentences += section_sents\n",
    "        categories += [cat] * len(section_sents)"
   ]
  },
  {
   "cell_type": "code",
   "execution_count": 14,
   "metadata": {},
   "outputs": [],
   "source": [
    "categ_id = dict(zip(list(set(categories)), np.arange(len(list(set(categories))))))\n",
    "sent_df = pd.DataFrame({'sentence': all_sentences, 'category': categories})\n",
    "sent_df['categ_id'] = [categ_id[i] for i in sent_df.category.values]"
   ]
  },
  {
   "cell_type": "markdown",
   "metadata": {},
   "source": [
    "## Read Embeddings"
   ]
  },
  {
   "cell_type": "code",
   "execution_count": 17,
   "metadata": {},
   "outputs": [
    {
     "name": "stderr",
     "output_type": "stream",
     "text": [
      "100%|████████████████████████████████████████████████████████████████████████████████████| 5/5 [00:25<00:00,  5.11s/it]\n"
     ]
    }
   ],
   "source": [
    "data_parts = []\n",
    "for i in tqdm(range(5)):\n",
    "    data = pd.read_csv(f'sentence_embeddings_{(i+1)*100}.csv')\n",
    "    data_parts.append(data)"
   ]
  },
  {
   "cell_type": "code",
   "execution_count": 19,
   "metadata": {},
   "outputs": [],
   "source": [
    "data_df = pd.concat(data_parts, axis = 0)\n",
    "data_df.sent_tr_emb = data_df.sent_tr_emb.apply(lambda x: list(np.fromstring(x[1:-1],sep=' ').astype(float)))\n",
    "data_df['categ_id'] = [categ_id[i] for i in data_df.category.values]"
   ]
  },
  {
   "cell_type": "code",
   "execution_count": 20,
   "metadata": {},
   "outputs": [
    {
     "data": {
      "text/plain": [
       "(68777, 5)"
      ]
     },
     "execution_count": 20,
     "metadata": {},
     "output_type": "execute_result"
    }
   ],
   "source": [
    "data_df.shape"
   ]
  },
  {
   "cell_type": "code",
   "execution_count": 24,
   "metadata": {},
   "outputs": [],
   "source": [
    "embeddings = np.array(list(data_df.sent_tr_emb.values))"
   ]
  }
 ],
 "metadata": {
  "kernelspec": {
   "display_name": "Python 3.7.5 64-bit",
   "language": "python",
   "name": "python3"
  },
  "language_info": {
   "codemirror_mode": {
    "name": "ipython",
    "version": 3
   },
   "file_extension": ".py",
   "mimetype": "text/x-python",
   "name": "python",
   "nbconvert_exporter": "python",
   "pygments_lexer": "ipython3",
   "version": "3.7.5"
  },
  "vscode": {
   "interpreter": {
    "hash": "82d4c6f819cf47785f735f902f00da8643513d08dab4f4c7470bccf934b8d2d6"
   }
  }
 },
 "nbformat": 4,
 "nbformat_minor": 4
}
