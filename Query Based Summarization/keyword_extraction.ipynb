{
 "cells": [
  {
   "cell_type": "code",
   "execution_count": 16,
   "metadata": {},
   "outputs": [],
   "source": [
    "import numpy as np\n",
    "import pandas as pd\n",
    "from rake_nltk import Rake\n",
    "import ast"
   ]
  },
  {
   "cell_type": "markdown",
   "metadata": {},
   "source": [
    "## Rake-NLTK"
   ]
  },
  {
   "cell_type": "code",
   "execution_count": 17,
   "metadata": {},
   "outputs": [],
   "source": [
    "r = Rake()"
   ]
  },
  {
   "cell_type": "code",
   "execution_count": 3,
   "metadata": {},
   "outputs": [],
   "source": [
    "data = pd.read_csv('../data/test_papers_word2vec.csv')\n",
    "data.sections = data.sections.apply(ast.literal_eval)"
   ]
  },
  {
   "cell_type": "code",
   "execution_count": 19,
   "metadata": {
    "scrolled": true
   },
   "outputs": [
    {
     "data": {
      "text/plain": [
       "\"Through Social media, people are able to write short messages on their walls to express their sentiments using various social media like Twitter and Facebook. Through these messages also called status updates, they share and discuss things like news, jokes, business issues and what they go through on a daily basis. Tweets and other updates have become so important in the world of information and communication because they have a great potential of passing information very fast. They enable interaction among vast groups of people including students, businesses and their clients. These numerous amounts of information can be extracted, processed and properly utilized in areas like marketing and electronic learning. This paper reports on the successful development of a way of searching, filtering, organizing and storing the information from social media so that it can be put to some good use in an electronic learning environment. This helps in solving the problem of losing vital information that is generated from the social media. It addresses this limitation by using the data from twitter to cluster students and by so doing support group electronic learning. Clustering is a descriptive task of data mining. A cluster is a collection of data objects that are either similar to one another in the same group or dissimilar to objects in other groups. Clustering uses unsupervised learning technique in finding similarities between data according to the characteristics found in the data and grouping similar data objects into clusters. Its objective is to get groups of objects such that the objects in a group will be similar (or related) to one another and different from (or unrelated to) the objects in other groups  [1] . It can be applied in various fields for instance taxonomy of living things, information retrieval from a document, identification of areas of similar land use in an earth observation database, discovering distinct groups by marketers in their customer bases for development of targeted marketing programs and identifying groups of houses according to their house type, value, and geographical location  [2] . A number of techniques can be used to do clustering. Some of them include summarization, compression and k-nearest neighbor which localizes search to one or a small number of clusters. Good clustering methods produce high quality clusters with either a high intra-class similarity within clusters or a low inter-class similarity between clusters. The quality of clustering also depends on both the similarity measure used by the method and its implementation  [10] . The quality of a clustering method is also measured by its ability to discover more or all the hidden patterns. Clustering is the concept that was used in this research to create groups from social media data which can be used for learning on electronic learning platforms. This section looks at how the system for creating discussion groups was developed as well as a detailed explanation of the research method that was used to realize the objective of the study. The system design methodology used was incremental prototyping. In incremental prototyping, the whole requirements are broken down into building blocks which are incremented each time a new component is integrated based on an overall design solution. Typically development starts with the external features and user interface, and then adds features as prototypes are developed. Requirements and Architectural Design can be done up front and then each prototype developed as the project progresses. The solution is complete when all the components are in place. Several activities were performed to come up with the system. The first task was to retrieve details of each of the students from their twitter accounts using an extension script which is part of the twitter Application Programming Interface. The second task involved identifying the right kind of data to use for training the expected prototype as well as testing it. This generally dealt with preliminary processing of the data collected from the users to do away with any inconsistencies and outliers  [11] . These unwanted features are not very good because they can easily cause the system to perform irregularly. The third step involved using the data already preprocessed above to train the prototype. The machine learning method used was unsupervised learning in which the system was given the data so that it automatically analyzes and creates clusters from the data  [3] . The relationship between the data items can be established using the k-nearest neighbor technique. From this, we identified the groups that students' fall that were turned into discussion groups. The fourth step was testing the system. The end result of the learning process was the model which was able to do classification with very minimal margins of error. The prototype was then subjected to testing using the test data. This is a collection of data whose class labels are already known. They are part of the data that was used to train the system but its results are already known. They were used to confirm that the system indeed accurately did the classification given some data items. Finally, the model was used to classify a new user into a group. This involved picking the details of a new student from twitter and trying to predict the class hence group that he should join. The illustration of the proposed prototype is given below.  The results reported in this paper were obtained from a series of evaluations that were done on the classifier on different parameters including functionality, usability, accuracy, precision and recall. This is the section that captured the users view on the functioning of the prototype. The first task was to determine if the prototype achieved its overall goal which is grouping students through social media for electronic learning. On this question touching on the overall goal, 90% of the students emphatically agreed that the system actually enabled them to be classified into groups and they were therefore able to know their group members and comfortably interact with them on a given task that they were assigned  [4] . They also confirmed that the system simplified the process of group formation and made inclusivity of distant students in the groups possible. A good number of learners indicated that they would continually use the system for the purposes of group formation and discussion. This is summarized in the chart below.  The Naïve Bayes Classifier was also tested to evaluate its accuracy, precision and recall  [9] . In experimenting with the Naïve Bayes Classifier, we relied on the NLTK module which provides functions for calculating these measures for the classifier. A total of 200 tweets were extracted and used for this test which was summarized in a confusion matrix. This matrix consists of the following parameters: TP, TN, FP and FN, which are defined below. The results below illustrate a summary of what was obtained when 200 tweets were used to test the Naïve Bayes Classifier. This classifier was doing the classification using the unigrams. This is where the tweets were being divided into single words which were analyzed before being classified. From this analysis the classifier performed above average with an accuracy of 71.4%. Precision and recall were however average. These measures can be improved if large amounts of data are used to train the classifier before being used to do actual classification. Through the study, it can be underscored that inasmuch as the social media has a great potential in education, this has not been exploited to a greater percentage. The techniques that are currently used in group formation and learning are mostly manual and so not efficient. They therefore come with a lot of challenges including time wastage. Through social media a better and more efficient way can be used to enable online learning generally and group formation specifically. The system that was developed by the researcher demonstrated the learning capability of the social media by coming up with a way of creating study groups from the information shared across the social media. It was able to extract tweets from various social media accounts based on a given hash tag (task) and then pass them to a Naïve Bayes classifier as input. The classifier then grouped the users into different categories based on various tweets that they posted on the task. The classifier was also able to assign other or new users groups also according to their tweets and the learning that the system had undergone. The system was therefore able to address the limitation of the social media of not being properly utilized as a platform for supporting learning activities like group formation. This paper addresses the limitation of social media of not being properly utilized as a platform for supporting learning activities like group formation. Most of the information that passes through social media was being used majorly for social interaction. The study has proved that it can actually be used constructively in learning in various institutions. Through the study, it was underscored that inasmuch as the social media has a great potential in education, this has not been exploited to a greater percentage. The techniques that are currently used in group formation and learning are mostly manual and so not efficient. They therefore come with a lot of challenges including time wastage. Through social media a better and more efficient way of clustering can be used to enable electronic learning generally and group formation specifically.\""
      ]
     },
     "execution_count": 19,
     "metadata": {},
     "output_type": "execute_result"
    }
   ],
   "source": [
    "data.iloc[0].text"
   ]
  },
  {
   "cell_type": "code",
   "execution_count": 18,
   "metadata": {},
   "outputs": [],
   "source": []
  },
  {
   "cell_type": "code",
   "execution_count": 22,
   "metadata": {},
   "outputs": [
    {
     "data": {
      "text/plain": [
       "['challenges including time wastage',\n",
       " 'enable electronic learning generally',\n",
       " 'group formation specifically',\n",
       " 'group formation',\n",
       " 'therefore come',\n",
       " 'social media',\n",
       " 'mostly manual',\n",
       " 'greater percentage',\n",
       " 'great potential',\n",
       " 'efficient way',\n",
       " 'currently used',\n",
       " 'learning',\n",
       " 'used',\n",
       " 'efficient',\n",
       " 'underscored',\n",
       " 'techniques',\n",
       " 'study',\n",
       " 'lot',\n",
       " 'inasmuch',\n",
       " 'exploited']"
      ]
     },
     "execution_count": 22,
     "metadata": {},
     "output_type": "execute_result"
    }
   ],
   "source": [
    "r.extract_keywords_from_text(data.iloc[0].sections['Conclusion'])\n",
    "r.get_ranked_phrases()[:20]"
   ]
  },
  {
   "cell_type": "code",
   "execution_count": 85,
   "metadata": {},
   "outputs": [
    {
     "data": {
      "text/plain": [
       "\"['Smart Cities', 'Traffic Congestion', 'Intelligent Control', 'PIC Microcontroller']\""
      ]
     },
     "execution_count": 85,
     "metadata": {},
     "output_type": "execute_result"
    }
   ],
   "source": [
    "data.iloc[1].keywords"
   ]
  },
  {
   "cell_type": "code",
   "execution_count": 90,
   "metadata": {},
   "outputs": [
    {
     "data": {
      "text/plain": [
       "dict_keys(['Introduction', 'Background', 'Review of Existing Traffic Control System', 'Method', 'System Design Approach', 'Power Supply Unit', 'Components Specification and Calculation', 'Transformer Specification', 'Bridge Rectifier', 'Capacitor', 'Diode', 'Choice of PIC16F876A Microcontroller and Optocoupler', 'Mode of Operation', 'Hard Ware Implementation', 'Software Implementation', 'Results and Discussion', 'Conclusion'])"
      ]
     },
     "execution_count": 90,
     "metadata": {},
     "output_type": "execute_result"
    }
   ],
   "source": [
    "data.iloc[1].sections.keys()"
   ]
  },
  {
   "cell_type": "markdown",
   "metadata": {},
   "source": [
    "## NLP"
   ]
  },
  {
   "cell_type": "code",
   "execution_count": 38,
   "metadata": {},
   "outputs": [],
   "source": [
    "from nltk.stem.porter import PorterStemmer\n",
    "from nltk.stem.wordnet import WordNetLemmatizer\n",
    "\n",
    "import re\n",
    "import nltk\n",
    "#nltk.download('stopwords')\n",
    "from nltk.corpus import stopwords\n",
    "from nltk.stem.porter import PorterStemmer\n",
    "from nltk.tokenize import RegexpTokenizer\n",
    "#nltk.download('wordnet') \n",
    "from nltk.stem.wordnet import WordNetLemmatizer"
   ]
  },
  {
   "cell_type": "code",
   "execution_count": 4,
   "metadata": {},
   "outputs": [],
   "source": [
    "dataset = pd.read_csv('../data/papers_dataset.csv')\n",
    "\n",
    "dataset.keywords = dataset.keywords.apply(ast.literal_eval)\n",
    "dataset.sections = dataset.sections.apply(ast.literal_eval)\n",
    "\n",
    "dataset = dataset[dataset.partition == 'train']\n",
    "\n",
    "train_df = dataset[['paper_id', 'partition', 'text']]"
   ]
  },
  {
   "cell_type": "code",
   "execution_count": 11,
   "metadata": {
    "scrolled": true
   },
   "outputs": [
    {
     "data": {
      "text/html": [
       "<div>\n",
       "<style scoped>\n",
       "    .dataframe tbody tr th:only-of-type {\n",
       "        vertical-align: middle;\n",
       "    }\n",
       "\n",
       "    .dataframe tbody tr th {\n",
       "        vertical-align: top;\n",
       "    }\n",
       "\n",
       "    .dataframe thead th {\n",
       "        text-align: right;\n",
       "    }\n",
       "</style>\n",
       "<table border=\"1\" class=\"dataframe\">\n",
       "  <thead>\n",
       "    <tr style=\"text-align: right;\">\n",
       "      <th></th>\n",
       "      <th>paper_id</th>\n",
       "      <th>partition</th>\n",
       "      <th>text</th>\n",
       "    </tr>\n",
       "  </thead>\n",
       "  <tbody>\n",
       "    <tr>\n",
       "      <th>0</th>\n",
       "      <td>paper_0</td>\n",
       "      <td>train</td>\n",
       "      <td>Heart disease is one of the major causes of li...</td>\n",
       "    </tr>\n",
       "    <tr>\n",
       "      <th>4</th>\n",
       "      <td>paper_4</td>\n",
       "      <td>train</td>\n",
       "      <td>The advancement of technology has heralded nov...</td>\n",
       "    </tr>\n",
       "    <tr>\n",
       "      <th>5</th>\n",
       "      <td>paper_5</td>\n",
       "      <td>train</td>\n",
       "      <td>The image processing and computer vision syste...</td>\n",
       "    </tr>\n",
       "    <tr>\n",
       "      <th>6</th>\n",
       "      <td>paper_6</td>\n",
       "      <td>train</td>\n",
       "      <td>The denoising of the fundus images is an essen...</td>\n",
       "    </tr>\n",
       "    <tr>\n",
       "      <th>7</th>\n",
       "      <td>paper_7</td>\n",
       "      <td>train</td>\n",
       "      <td>The goal of this communication is to examine t...</td>\n",
       "    </tr>\n",
       "    <tr>\n",
       "      <th>8</th>\n",
       "      <td>paper_8</td>\n",
       "      <td>train</td>\n",
       "      <td>The purpose of the paper is development of a c...</td>\n",
       "    </tr>\n",
       "    <tr>\n",
       "      <th>9</th>\n",
       "      <td>paper_9</td>\n",
       "      <td>train</td>\n",
       "      <td>Recent advancements in communication technolog...</td>\n",
       "    </tr>\n",
       "    <tr>\n",
       "      <th>10</th>\n",
       "      <td>paper_10</td>\n",
       "      <td>train</td>\n",
       "      <td>In the last few years, the number of road acci...</td>\n",
       "    </tr>\n",
       "    <tr>\n",
       "      <th>11</th>\n",
       "      <td>paper_11</td>\n",
       "      <td>train</td>\n",
       "      <td>Human role reduction in the firing process in ...</td>\n",
       "    </tr>\n",
       "    <tr>\n",
       "      <th>12</th>\n",
       "      <td>paper_12</td>\n",
       "      <td>train</td>\n",
       "      <td>With the deepening of Chinses national strateg...</td>\n",
       "    </tr>\n",
       "    <tr>\n",
       "      <th>13</th>\n",
       "      <td>paper_13</td>\n",
       "      <td>train</td>\n",
       "      <td>Robot manipulators have become increasingly im...</td>\n",
       "    </tr>\n",
       "    <tr>\n",
       "      <th>14</th>\n",
       "      <td>paper_14</td>\n",
       "      <td>train</td>\n",
       "      <td>The quality of data-driven Machine Translation...</td>\n",
       "    </tr>\n",
       "    <tr>\n",
       "      <th>15</th>\n",
       "      <td>paper_15</td>\n",
       "      <td>train</td>\n",
       "      <td>Excess solar thermal energy is available, whil...</td>\n",
       "    </tr>\n",
       "    <tr>\n",
       "      <th>16</th>\n",
       "      <td>paper_16</td>\n",
       "      <td>train</td>\n",
       "      <td>Hybrid systems of the fuzzy logic and neural n...</td>\n",
       "    </tr>\n",
       "    <tr>\n",
       "      <th>17</th>\n",
       "      <td>paper_17</td>\n",
       "      <td>train</td>\n",
       "      <td>The Self Organizing Map (SOM) is an unsupervis...</td>\n",
       "    </tr>\n",
       "    <tr>\n",
       "      <th>18</th>\n",
       "      <td>paper_18</td>\n",
       "      <td>train</td>\n",
       "      <td>A traffic light control module base on PSO alg...</td>\n",
       "    </tr>\n",
       "    <tr>\n",
       "      <th>19</th>\n",
       "      <td>paper_19</td>\n",
       "      <td>train</td>\n",
       "      <td>Information systems handle large amount of dat...</td>\n",
       "    </tr>\n",
       "    <tr>\n",
       "      <th>20</th>\n",
       "      <td>paper_20</td>\n",
       "      <td>train</td>\n",
       "      <td>In this paper, a problem in engineering area w...</td>\n",
       "    </tr>\n",
       "    <tr>\n",
       "      <th>22</th>\n",
       "      <td>paper_22</td>\n",
       "      <td>train</td>\n",
       "      <td>Digital libraries, recommender systems and inf...</td>\n",
       "    </tr>\n",
       "    <tr>\n",
       "      <th>23</th>\n",
       "      <td>paper_23</td>\n",
       "      <td>train</td>\n",
       "      <td>Tax fraud is the non-payment or the partial pa...</td>\n",
       "    </tr>\n",
       "    <tr>\n",
       "      <th>24</th>\n",
       "      <td>paper_24</td>\n",
       "      <td>train</td>\n",
       "      <td>Land, according to most governments, is an imp...</td>\n",
       "    </tr>\n",
       "    <tr>\n",
       "      <th>25</th>\n",
       "      <td>paper_25</td>\n",
       "      <td>train</td>\n",
       "      <td>Smartphones' data security has become increasi...</td>\n",
       "    </tr>\n",
       "    <tr>\n",
       "      <th>26</th>\n",
       "      <td>paper_26</td>\n",
       "      <td>train</td>\n",
       "      <td>The explicit Model Predictive Control (MPC) ha...</td>\n",
       "    </tr>\n",
       "    <tr>\n",
       "      <th>27</th>\n",
       "      <td>paper_27</td>\n",
       "      <td>train</td>\n",
       "      <td>There are essentially different forms of solar...</td>\n",
       "    </tr>\n",
       "    <tr>\n",
       "      <th>28</th>\n",
       "      <td>paper_28</td>\n",
       "      <td>train</td>\n",
       "      <td>A scenario known as conflict in face recogniti...</td>\n",
       "    </tr>\n",
       "    <tr>\n",
       "      <th>29</th>\n",
       "      <td>paper_29</td>\n",
       "      <td>train</td>\n",
       "      <td>One of the major challenges facing prisons ser...</td>\n",
       "    </tr>\n",
       "    <tr>\n",
       "      <th>30</th>\n",
       "      <td>paper_30</td>\n",
       "      <td>train</td>\n",
       "      <td>In this essay, the researcher is focusing on t...</td>\n",
       "    </tr>\n",
       "    <tr>\n",
       "      <th>32</th>\n",
       "      <td>paper_32</td>\n",
       "      <td>train</td>\n",
       "      <td>Despite many benefits of e-banking for custome...</td>\n",
       "    </tr>\n",
       "    <tr>\n",
       "      <th>33</th>\n",
       "      <td>paper_33</td>\n",
       "      <td>train</td>\n",
       "      <td>Authentication is a fundamental component of h...</td>\n",
       "    </tr>\n",
       "    <tr>\n",
       "      <th>34</th>\n",
       "      <td>paper_34</td>\n",
       "      <td>train</td>\n",
       "      <td>Face detection is a common computer technology...</td>\n",
       "    </tr>\n",
       "    <tr>\n",
       "      <th>...</th>\n",
       "      <td>...</td>\n",
       "      <td>...</td>\n",
       "      <td>...</td>\n",
       "    </tr>\n",
       "    <tr>\n",
       "      <th>477</th>\n",
       "      <td>paper_477</td>\n",
       "      <td>train</td>\n",
       "      <td>The purpose of this study was to determine the...</td>\n",
       "    </tr>\n",
       "    <tr>\n",
       "      <th>478</th>\n",
       "      <td>paper_478</td>\n",
       "      <td>train</td>\n",
       "      <td>This study presents a practical methodology de...</td>\n",
       "    </tr>\n",
       "    <tr>\n",
       "      <th>480</th>\n",
       "      <td>paper_480</td>\n",
       "      <td>train</td>\n",
       "      <td>This paper aims at finding effective direction...</td>\n",
       "    </tr>\n",
       "    <tr>\n",
       "      <th>481</th>\n",
       "      <td>paper_481</td>\n",
       "      <td>train</td>\n",
       "      <td>This paper deals with the identification probl...</td>\n",
       "    </tr>\n",
       "    <tr>\n",
       "      <th>482</th>\n",
       "      <td>paper_482</td>\n",
       "      <td>train</td>\n",
       "      <td>Neural networks represent a brain metaphor for...</td>\n",
       "    </tr>\n",
       "    <tr>\n",
       "      <th>483</th>\n",
       "      <td>paper_483</td>\n",
       "      <td>train</td>\n",
       "      <td>The hot rolling mills of steel plants are in t...</td>\n",
       "    </tr>\n",
       "    <tr>\n",
       "      <th>484</th>\n",
       "      <td>paper_484</td>\n",
       "      <td>train</td>\n",
       "      <td>The estimation of wave parameters is of great ...</td>\n",
       "    </tr>\n",
       "    <tr>\n",
       "      <th>485</th>\n",
       "      <td>paper_485</td>\n",
       "      <td>train</td>\n",
       "      <td>The proposed architecture of a binary artifici...</td>\n",
       "    </tr>\n",
       "    <tr>\n",
       "      <th>486</th>\n",
       "      <td>paper_486</td>\n",
       "      <td>train</td>\n",
       "      <td>In this paper, an artificial intelligent appro...</td>\n",
       "    </tr>\n",
       "    <tr>\n",
       "      <th>487</th>\n",
       "      <td>paper_487</td>\n",
       "      <td>train</td>\n",
       "      <td>An extensive amount of information is currentl...</td>\n",
       "    </tr>\n",
       "    <tr>\n",
       "      <th>488</th>\n",
       "      <td>paper_488</td>\n",
       "      <td>train</td>\n",
       "      <td>Different methods have been proposed to solve ...</td>\n",
       "    </tr>\n",
       "    <tr>\n",
       "      <th>489</th>\n",
       "      <td>paper_489</td>\n",
       "      <td>train</td>\n",
       "      <td>As the development of data storage technology ...</td>\n",
       "    </tr>\n",
       "    <tr>\n",
       "      <th>490</th>\n",
       "      <td>paper_490</td>\n",
       "      <td>train</td>\n",
       "      <td>Data Mining is now a common method for mining ...</td>\n",
       "    </tr>\n",
       "    <tr>\n",
       "      <th>491</th>\n",
       "      <td>paper_491</td>\n",
       "      <td>train</td>\n",
       "      <td>In recent times, the phenomenal increase in th...</td>\n",
       "    </tr>\n",
       "    <tr>\n",
       "      <th>493</th>\n",
       "      <td>paper_493</td>\n",
       "      <td>train</td>\n",
       "      <td>In article he results of researches in differe...</td>\n",
       "    </tr>\n",
       "    <tr>\n",
       "      <th>494</th>\n",
       "      <td>paper_494</td>\n",
       "      <td>train</td>\n",
       "      <td>In this paper, a new approach for identificati...</td>\n",
       "    </tr>\n",
       "    <tr>\n",
       "      <th>495</th>\n",
       "      <td>paper_495</td>\n",
       "      <td>train</td>\n",
       "      <td>In the article procedure of rough-down of info...</td>\n",
       "    </tr>\n",
       "    <tr>\n",
       "      <th>496</th>\n",
       "      <td>paper_496</td>\n",
       "      <td>train</td>\n",
       "      <td>The site selection of logistics center is a ve...</td>\n",
       "    </tr>\n",
       "    <tr>\n",
       "      <th>497</th>\n",
       "      <td>paper_497</td>\n",
       "      <td>train</td>\n",
       "      <td>The problem of medical images of cervix epithe...</td>\n",
       "    </tr>\n",
       "    <tr>\n",
       "      <th>498</th>\n",
       "      <td>paper_498</td>\n",
       "      <td>train</td>\n",
       "      <td>We suggest a method of surface saturation in t...</td>\n",
       "    </tr>\n",
       "    <tr>\n",
       "      <th>499</th>\n",
       "      <td>paper_499</td>\n",
       "      <td>train</td>\n",
       "      <td>Selection of classifiers and feature extractio...</td>\n",
       "    </tr>\n",
       "    <tr>\n",
       "      <th>500</th>\n",
       "      <td>paper_500</td>\n",
       "      <td>train</td>\n",
       "      <td>Ammonium nitrate based explosives are a choice...</td>\n",
       "    </tr>\n",
       "    <tr>\n",
       "      <th>501</th>\n",
       "      <td>paper_501</td>\n",
       "      <td>train</td>\n",
       "      <td>Medical computer-aided diagnosis systems are e...</td>\n",
       "    </tr>\n",
       "    <tr>\n",
       "      <th>502</th>\n",
       "      <td>paper_502</td>\n",
       "      <td>train</td>\n",
       "      <td>In this paper, we exploit one of the fastest g...</td>\n",
       "    </tr>\n",
       "    <tr>\n",
       "      <th>503</th>\n",
       "      <td>paper_503</td>\n",
       "      <td>train</td>\n",
       "      <td>Chatbots have the potential to save any indivi...</td>\n",
       "    </tr>\n",
       "    <tr>\n",
       "      <th>504</th>\n",
       "      <td>paper_504</td>\n",
       "      <td>train</td>\n",
       "      <td>Nowadays, the scale of real network is increas...</td>\n",
       "    </tr>\n",
       "    <tr>\n",
       "      <th>505</th>\n",
       "      <td>paper_505</td>\n",
       "      <td>train</td>\n",
       "      <td>The article contains the new materials reflect...</td>\n",
       "    </tr>\n",
       "    <tr>\n",
       "      <th>506</th>\n",
       "      <td>paper_506</td>\n",
       "      <td>train</td>\n",
       "      <td>In this paper we have segmented an image by us...</td>\n",
       "    </tr>\n",
       "    <tr>\n",
       "      <th>508</th>\n",
       "      <td>paper_508</td>\n",
       "      <td>train</td>\n",
       "      <td>The article contains the new materials reflect...</td>\n",
       "    </tr>\n",
       "    <tr>\n",
       "      <th>509</th>\n",
       "      <td>paper_509</td>\n",
       "      <td>train</td>\n",
       "      <td>Nib calligraphy pattern recognition is the way...</td>\n",
       "    </tr>\n",
       "  </tbody>\n",
       "</table>\n",
       "<p>474 rows × 3 columns</p>\n",
       "</div>"
      ],
      "text/plain": [
       "      paper_id partition                                               text\n",
       "0      paper_0     train  Heart disease is one of the major causes of li...\n",
       "4      paper_4     train  The advancement of technology has heralded nov...\n",
       "5      paper_5     train  The image processing and computer vision syste...\n",
       "6      paper_6     train  The denoising of the fundus images is an essen...\n",
       "7      paper_7     train  The goal of this communication is to examine t...\n",
       "8      paper_8     train  The purpose of the paper is development of a c...\n",
       "9      paper_9     train  Recent advancements in communication technolog...\n",
       "10    paper_10     train  In the last few years, the number of road acci...\n",
       "11    paper_11     train  Human role reduction in the firing process in ...\n",
       "12    paper_12     train  With the deepening of Chinses national strateg...\n",
       "13    paper_13     train  Robot manipulators have become increasingly im...\n",
       "14    paper_14     train  The quality of data-driven Machine Translation...\n",
       "15    paper_15     train  Excess solar thermal energy is available, whil...\n",
       "16    paper_16     train  Hybrid systems of the fuzzy logic and neural n...\n",
       "17    paper_17     train  The Self Organizing Map (SOM) is an unsupervis...\n",
       "18    paper_18     train  A traffic light control module base on PSO alg...\n",
       "19    paper_19     train  Information systems handle large amount of dat...\n",
       "20    paper_20     train  In this paper, a problem in engineering area w...\n",
       "22    paper_22     train  Digital libraries, recommender systems and inf...\n",
       "23    paper_23     train  Tax fraud is the non-payment or the partial pa...\n",
       "24    paper_24     train  Land, according to most governments, is an imp...\n",
       "25    paper_25     train  Smartphones' data security has become increasi...\n",
       "26    paper_26     train  The explicit Model Predictive Control (MPC) ha...\n",
       "27    paper_27     train  There are essentially different forms of solar...\n",
       "28    paper_28     train  A scenario known as conflict in face recogniti...\n",
       "29    paper_29     train  One of the major challenges facing prisons ser...\n",
       "30    paper_30     train  In this essay, the researcher is focusing on t...\n",
       "32    paper_32     train  Despite many benefits of e-banking for custome...\n",
       "33    paper_33     train  Authentication is a fundamental component of h...\n",
       "34    paper_34     train  Face detection is a common computer technology...\n",
       "..         ...       ...                                                ...\n",
       "477  paper_477     train  The purpose of this study was to determine the...\n",
       "478  paper_478     train  This study presents a practical methodology de...\n",
       "480  paper_480     train  This paper aims at finding effective direction...\n",
       "481  paper_481     train  This paper deals with the identification probl...\n",
       "482  paper_482     train  Neural networks represent a brain metaphor for...\n",
       "483  paper_483     train  The hot rolling mills of steel plants are in t...\n",
       "484  paper_484     train  The estimation of wave parameters is of great ...\n",
       "485  paper_485     train  The proposed architecture of a binary artifici...\n",
       "486  paper_486     train  In this paper, an artificial intelligent appro...\n",
       "487  paper_487     train  An extensive amount of information is currentl...\n",
       "488  paper_488     train  Different methods have been proposed to solve ...\n",
       "489  paper_489     train  As the development of data storage technology ...\n",
       "490  paper_490     train  Data Mining is now a common method for mining ...\n",
       "491  paper_491     train  In recent times, the phenomenal increase in th...\n",
       "493  paper_493     train  In article he results of researches in differe...\n",
       "494  paper_494     train  In this paper, a new approach for identificati...\n",
       "495  paper_495     train  In the article procedure of rough-down of info...\n",
       "496  paper_496     train  The site selection of logistics center is a ve...\n",
       "497  paper_497     train  The problem of medical images of cervix epithe...\n",
       "498  paper_498     train  We suggest a method of surface saturation in t...\n",
       "499  paper_499     train  Selection of classifiers and feature extractio...\n",
       "500  paper_500     train  Ammonium nitrate based explosives are a choice...\n",
       "501  paper_501     train  Medical computer-aided diagnosis systems are e...\n",
       "502  paper_502     train  In this paper, we exploit one of the fastest g...\n",
       "503  paper_503     train  Chatbots have the potential to save any indivi...\n",
       "504  paper_504     train  Nowadays, the scale of real network is increas...\n",
       "505  paper_505     train  The article contains the new materials reflect...\n",
       "506  paper_506     train  In this paper we have segmented an image by us...\n",
       "508  paper_508     train  The article contains the new materials reflect...\n",
       "509  paper_509     train  Nib calligraphy pattern recognition is the way...\n",
       "\n",
       "[474 rows x 3 columns]"
      ]
     },
     "execution_count": 11,
     "metadata": {},
     "output_type": "execute_result"
    }
   ],
   "source": [
    "train_df"
   ]
  },
  {
   "cell_type": "code",
   "execution_count": 6,
   "metadata": {},
   "outputs": [],
   "source": [
    "new_paper = {'paper_id': data.iloc[0].paper_id, 'partition': data.iloc[0].partition, 'text': data.iloc[0].text}\n",
    "train_df = train_df.append(new_paper, ignore_index=True)"
   ]
  },
  {
   "cell_type": "code",
   "execution_count": 31,
   "metadata": {},
   "outputs": [
    {
     "data": {
      "text/html": [
       "<div>\n",
       "<style scoped>\n",
       "    .dataframe tbody tr th:only-of-type {\n",
       "        vertical-align: middle;\n",
       "    }\n",
       "\n",
       "    .dataframe tbody tr th {\n",
       "        vertical-align: top;\n",
       "    }\n",
       "\n",
       "    .dataframe thead th {\n",
       "        text-align: right;\n",
       "    }\n",
       "</style>\n",
       "<table border=\"1\" class=\"dataframe\">\n",
       "  <thead>\n",
       "    <tr style=\"text-align: right;\">\n",
       "      <th></th>\n",
       "      <th>text</th>\n",
       "      <th>word_count</th>\n",
       "    </tr>\n",
       "  </thead>\n",
       "  <tbody>\n",
       "    <tr>\n",
       "      <th>0</th>\n",
       "      <td>Heart disease is one of the major causes of li...</td>\n",
       "      <td>6699</td>\n",
       "    </tr>\n",
       "    <tr>\n",
       "      <th>1</th>\n",
       "      <td>The advancement of technology has heralded nov...</td>\n",
       "      <td>3204</td>\n",
       "    </tr>\n",
       "    <tr>\n",
       "      <th>2</th>\n",
       "      <td>The image processing and computer vision syste...</td>\n",
       "      <td>3057</td>\n",
       "    </tr>\n",
       "    <tr>\n",
       "      <th>3</th>\n",
       "      <td>The denoising of the fundus images is an essen...</td>\n",
       "      <td>1739</td>\n",
       "    </tr>\n",
       "    <tr>\n",
       "      <th>4</th>\n",
       "      <td>The goal of this communication is to examine t...</td>\n",
       "      <td>2521</td>\n",
       "    </tr>\n",
       "  </tbody>\n",
       "</table>\n",
       "</div>"
      ],
      "text/plain": [
       "                                                text  word_count\n",
       "0  Heart disease is one of the major causes of li...        6699\n",
       "1  The advancement of technology has heralded nov...        3204\n",
       "2  The image processing and computer vision syste...        3057\n",
       "3  The denoising of the fundus images is an essen...        1739\n",
       "4  The goal of this communication is to examine t...        2521"
      ]
     },
     "execution_count": 31,
     "metadata": {},
     "output_type": "execute_result"
    }
   ],
   "source": [
    "train_df['word_count'] = train_df['text'].apply(lambda x: len(str(x).split(\" \")))\n",
    "train_df[['text','word_count']].head()"
   ]
  },
  {
   "cell_type": "code",
   "execution_count": 35,
   "metadata": {
    "scrolled": true
   },
   "outputs": [
    {
     "data": {
      "text/plain": [
       "the     96386\n",
       "of      59789\n",
       "and     43605\n",
       "to      33215\n",
       "is      26069\n",
       "in      25868\n",
       "a       21989\n",
       "The     13919\n",
       "for     13112\n",
       "that    11550\n",
       "are     11033\n",
       "as       9816\n",
       "be       8914\n",
       "with     8721\n",
       "on       8611\n",
       "by       8201\n",
       ".        6526\n",
       "data     6296\n",
       "can      6292\n",
       "this     5833\n",
       "dtype: int64"
      ]
     },
     "execution_count": 35,
     "metadata": {},
     "output_type": "execute_result"
    }
   ],
   "source": [
    "freq = pd.Series(' '.join(train_df['text']).split()).value_counts()[:20]\n",
    "freq"
   ]
  },
  {
   "cell_type": "code",
   "execution_count": 79,
   "metadata": {},
   "outputs": [],
   "source": [
    "##Creating a list of stop words and adding custom stopwords\n",
    "stop_words = set(stopwords.words(\"english\"))\n",
    "##Creating a list of custom stopwords\n",
    "#new_words = [\"using\", \"show\", \"result\", \"large\", \"also\", \"iv\", \"one\", \"two\", \"new\", \"previously\", \"shown\"]\n",
    "#stop_words = stop_words.union(new_words)"
   ]
  },
  {
   "cell_type": "code",
   "execution_count": 83,
   "metadata": {},
   "outputs": [],
   "source": [
    "corpus = []\n",
    "for i in range(0, train_df.shape[0]):\n",
    "    #Remove punctuations\n",
    "    text = re.sub('[^a-zA-Z]', ' ', train_df['text'][i])\n",
    "    \n",
    "    #Convert to lowercase\n",
    "    text = text.lower()\n",
    "    \n",
    "    #remove tags\n",
    "    text=re.sub(\"&lt;/?.*?&gt;\",\" &lt;&gt; \",text)\n",
    "    \n",
    "    # remove special characters and digits\n",
    "    text=re.sub(\"(\\\\d|\\\\W)+\",\" \",text)\n",
    "    \n",
    "    ##Convert to list from string\n",
    "    text = text.split()\n",
    "    \n",
    "    ##Stemming\n",
    "    ps=PorterStemmer()\n",
    "    #Lemmatisation\n",
    "    lem = WordNetLemmatizer()\n",
    "    text = [lem.lemmatize(word) for word in text if not word in  \n",
    "            stop_words] \n",
    "    text = \" \".join(text)\n",
    "    corpus.append(text)"
   ]
  },
  {
   "cell_type": "code",
   "execution_count": 47,
   "metadata": {},
   "outputs": [
    {
     "name": "stdout",
     "output_type": "stream",
     "text": [
      "<wordcloud.wordcloud.WordCloud object at 0x000001B8EBC2C470>\n"
     ]
    },
    {
     "data": {
      "image/png": "[encoded data removed]",
      "text/plain": [
       "<Figure size 432x288 with 1 Axes>"
      ]
     },
     "metadata": {
      "needs_background": "light"
     },
     "output_type": "display_data"
    }
   ],
   "source": [
    "from os import path\n",
    "from PIL import Image\n",
    "from wordcloud import WordCloud, STOPWORDS, ImageColorGenerator\n",
    "import matplotlib.pyplot as plt\n",
    "wordcloud = WordCloud(\n",
    "                          background_color='white',\n",
    "                          stopwords=stop_words,\n",
    "                          max_words=100,\n",
    "                          max_font_size=50, \n",
    "                          random_state=42\n",
    "                         ).generate(str(corpus[-1]))\n",
    "print(wordcloud)\n",
    "fig = plt.figure(1)\n",
    "plt.imshow(wordcloud)\n",
    "plt.axis('off')\n",
    "plt.show()"
   ]
  },
  {
   "cell_type": "code",
   "execution_count": 61,
   "metadata": {},
   "outputs": [],
   "source": [
    "from sklearn.feature_extraction.text import CountVectorizer\n",
    "import re\n",
    "cv=CountVectorizer(max_df=0.8,stop_words=stop_words, max_features=10000, ngram_range=(2,5))\n",
    "X=cv.fit_transform(corpus)"
   ]
  },
  {
   "cell_type": "code",
   "execution_count": 62,
   "metadata": {},
   "outputs": [],
   "source": [
    "from sklearn.feature_extraction.text import TfidfTransformer\n",
    " \n",
    "tfidf_transformer=TfidfTransformer(smooth_idf=True,use_idf=True)\n",
    "tfidf_transformer.fit(X)\n",
    "# get feature names\n",
    "feature_names=cv.get_feature_names()\n",
    " \n",
    "# fetch document for which keywords needs to be extracted\n",
    "doc=corpus[-1]\n",
    " \n",
    "#generate tf-idf for the given document\n",
    "tf_idf_vector=tfidf_transformer.transform(cv.transform([doc]))"
   ]
  },
  {
   "cell_type": "code",
   "execution_count": 63,
   "metadata": {},
   "outputs": [
    {
     "name": "stdout",
     "output_type": "stream",
     "text": [
      "\n",
      "Keywords:\n",
      "social medium 0.527\n",
      "group formation 0.457\n",
      "electronic learning 0.306\n",
      "na bayes classifier 0.196\n",
      "bayes classifier 0.18\n",
      "accuracy precision recall 0.153\n",
      "na bayes 0.149\n",
      "great potential 0.135\n",
      "accuracy precision 0.126\n",
      "precision recall 0.12\n",
      "prototype developed 0.098\n",
      "data item 0.092\n",
      "already known 0.09\n",
      "given data 0.084\n",
      "data object 0.084\n",
      "user group 0.083\n",
      "collection data 0.083\n",
      "learning system 0.08\n",
      "unsupervised learning 0.079\n",
      "data used 0.077\n"
     ]
    }
   ],
   "source": [
    "#Function for sorting tf_idf in descending order\n",
    "from scipy.sparse import coo_matrix\n",
    "def sort_coo(coo_matrix):\n",
    "    tuples = zip(coo_matrix.col, coo_matrix.data)\n",
    "    return sorted(tuples, key=lambda x: (x[1], x[0]), reverse=True)\n",
    " \n",
    "def extract_topn_from_vector(feature_names, sorted_items, topn=20):\n",
    "    \"\"\"get the feature names and tf-idf score of top n items\"\"\"\n",
    "    \n",
    "    #use only topn items from vector\n",
    "    sorted_items = sorted_items[:topn]\n",
    " \n",
    "    score_vals = []\n",
    "    feature_vals = []\n",
    "    \n",
    "    # word index and corresponding tf-idf score\n",
    "    for idx, score in sorted_items:\n",
    "        \n",
    "        #keep track of feature name and its corresponding score\n",
    "        score_vals.append(round(score, 3))\n",
    "        feature_vals.append(feature_names[idx])\n",
    " \n",
    "    #create a tuples of feature,score\n",
    "    #results = zip(feature_vals,score_vals)\n",
    "    results= {}\n",
    "    for idx in range(len(feature_vals)):\n",
    "        results[feature_vals[idx]]=score_vals[idx]\n",
    "    \n",
    "    return results\n",
    "#sort the tf-idf vectors by descending order of scores\n",
    "sorted_items=sort_coo(tf_idf_vector.tocoo())\n",
    "#extract only the top n; n here is 10\n",
    "keywords=extract_topn_from_vector(feature_names,sorted_items,20)\n",
    " \n",
    "# now print the results\n",
    "#print(\"\\nAbstract:\")\n",
    "#print(doc)\n",
    "print(\"\\nKeywords:\")\n",
    "for k in keywords:\n",
    "    print(k,keywords[k])"
   ]
  },
  {
   "cell_type": "code",
   "execution_count": 21,
   "metadata": {},
   "outputs": [],
   "source": []
  },
  {
   "cell_type": "code",
   "execution_count": 1,
   "metadata": {},
   "outputs": [
    {
     "ename": "ModuleNotFoundError",
     "evalue": "No module named 'nltk'",
     "output_type": "error",
     "traceback": [
      "\u001b[1;31m---------------------------------------------------------------------------\u001b[0m",
      "\u001b[1;31mModuleNotFoundError\u001b[0m                       Traceback (most recent call last)",
      "\u001b[1;32m~\\AppData\\Local\\Temp\\ipykernel_4280\\2183971648.py\u001b[0m in \u001b[0;36m<module>\u001b[1;34m\u001b[0m\n\u001b[0;32m      1\u001b[0m \u001b[1;32mimport\u001b[0m \u001b[0mpandas\u001b[0m \u001b[1;32mas\u001b[0m \u001b[0mpd\u001b[0m\u001b[1;33m\u001b[0m\u001b[1;33m\u001b[0m\u001b[0m\n\u001b[0;32m      2\u001b[0m \u001b[1;32mimport\u001b[0m \u001b[0mast\u001b[0m\u001b[1;33m\u001b[0m\u001b[1;33m\u001b[0m\u001b[0m\n\u001b[1;32m----> 3\u001b[1;33m \u001b[1;32mfrom\u001b[0m \u001b[0mkeyword_extraction\u001b[0m \u001b[1;32mimport\u001b[0m \u001b[0mextract_keywords_section\u001b[0m\u001b[1;33m,\u001b[0m \u001b[0mextract_keywords_paper\u001b[0m\u001b[1;33m\u001b[0m\u001b[1;33m\u001b[0m\u001b[0m\n\u001b[0m\u001b[0;32m      4\u001b[0m \u001b[1;33m\u001b[0m\u001b[0m\n\u001b[0;32m      5\u001b[0m \u001b[0mdataset\u001b[0m \u001b[1;33m=\u001b[0m \u001b[0mpd\u001b[0m\u001b[1;33m.\u001b[0m\u001b[0mread_csv\u001b[0m\u001b[1;33m(\u001b[0m\u001b[1;34m'../data/papers_dataset.csv'\u001b[0m\u001b[1;33m)\u001b[0m\u001b[1;33m\u001b[0m\u001b[1;33m\u001b[0m\u001b[0m\n",
      "\u001b[1;32mc:\\Users\\User\\Desktop\\qbs\\keyword_extraction.py\u001b[0m in \u001b[0;36m<module>\u001b[1;34m\u001b[0m\n\u001b[0;32m      4\u001b[0m \u001b[1;32mfrom\u001b[0m \u001b[0msklearn\u001b[0m\u001b[1;33m.\u001b[0m\u001b[0mfeature_extraction\u001b[0m\u001b[1;33m.\u001b[0m\u001b[0mtext\u001b[0m \u001b[1;32mimport\u001b[0m \u001b[0mCountVectorizer\u001b[0m\u001b[1;33m\u001b[0m\u001b[1;33m\u001b[0m\u001b[0m\n\u001b[0;32m      5\u001b[0m \u001b[1;32mimport\u001b[0m \u001b[0mre\u001b[0m\u001b[1;33m\u001b[0m\u001b[1;33m\u001b[0m\u001b[0m\n\u001b[1;32m----> 6\u001b[1;33m \u001b[1;32mfrom\u001b[0m \u001b[0mnltk\u001b[0m\u001b[1;33m.\u001b[0m\u001b[0mstem\u001b[0m\u001b[1;33m.\u001b[0m\u001b[0mporter\u001b[0m \u001b[1;32mimport\u001b[0m \u001b[0mPorterStemmer\u001b[0m\u001b[1;33m\u001b[0m\u001b[1;33m\u001b[0m\u001b[0m\n\u001b[0m\u001b[0;32m      7\u001b[0m \u001b[1;32mfrom\u001b[0m \u001b[0mnltk\u001b[0m\u001b[1;33m.\u001b[0m\u001b[0mstem\u001b[0m\u001b[1;33m.\u001b[0m\u001b[0mwordnet\u001b[0m \u001b[1;32mimport\u001b[0m \u001b[0mWordNetLemmatizer\u001b[0m\u001b[1;33m\u001b[0m\u001b[1;33m\u001b[0m\u001b[0m\n\u001b[0;32m      8\u001b[0m \u001b[1;33m\u001b[0m\u001b[0m\n",
      "\u001b[1;31mModuleNotFoundError\u001b[0m: No module named 'nltk'"
     ]
    }
   ],
   "source": [
    "import pandas as pd\n",
    "import ast\n",
    "from keyword_extraction import extract_keywords_section, extract_keywords_paper\n",
    "\n",
    "dataset = pd.read_csv('../data/papers_dataset.csv')\n",
    "\n",
    "dataset.keywords = dataset.keywords.apply(ast.literal_eval)\n",
    "dataset.sections = dataset.sections.apply(ast.literal_eval)\n",
    "\n",
    "dataset = dataset[dataset.partition == 'train']\n",
    "\n",
    "train_df = dataset[['paper_id', 'partition', 'text']]\n",
    "\n",
    "data = pd.read_csv('../data/test_papers_word2vec.csv')\n",
    "data.sections = data.sections.apply(ast.literal_eval)"
   ]
  },
  {
   "cell_type": "code",
   "execution_count": 3,
   "metadata": {},
   "outputs": [
    {
     "name": "stdout",
     "output_type": "stream",
     "text": [
      "8\n"
     ]
    },
    {
     "data": {
      "text/plain": [
       "{'group formation': 0.155,\n",
       " 'social medium': 0.12,\n",
       " 'way clustering used enable': 0.107,\n",
       " 'way clustering used': 0.107,\n",
       " 'way clustering': 0.107,\n",
       " 'used enable electronic learning': 0.107,\n",
       " 'used enable electronic': 0.107,\n",
       " 'enable electronic learning generally': 0.107,\n",
       " 'enable electronic learning': 0.107,\n",
       " 'enable electronic': 0.107,\n",
       " 'electronic learning generally group': 0.107,\n",
       " 'electronic learning generally': 0.107,\n",
       " 'efficient way clustering used': 0.107,\n",
       " 'efficient way clustering': 0.107,\n",
       " 'clustering used enable electronic': 0.107,\n",
       " 'clustering used enable': 0.107,\n",
       " 'clustering used': 0.107,\n",
       " 'better efficient way clustering': 0.107,\n",
       " 'wastage social medium better': 0.09,\n",
       " 'wastage social medium': 0.09}"
      ]
     },
     "execution_count": 3,
     "metadata": {},
     "output_type": "execute_result"
    }
   ],
   "source": [
    "extract_keywords_section(data.iloc[0], 'Conclusion', 20)"
   ]
  },
  {
   "cell_type": "code",
   "execution_count": 2,
   "metadata": {},
   "outputs": [
    {
     "data": {
      "text/plain": [
       "{'social medium': 0.875, 'efficient way': 0.483}"
      ]
     },
     "execution_count": 2,
     "metadata": {},
     "output_type": "execute_result"
    }
   ],
   "source": [
    "extract_keywords_paper(text = data.iloc[0].sections['Conclusion'], train_corpus = train_df, num_keywords = 20)"
   ]
  },
  {
   "cell_type": "code",
   "execution_count": 7,
   "metadata": {},
   "outputs": [
    {
     "name": "stdout",
     "output_type": "stream",
     "text": [
      "(474, 3)\n",
      "(475, 4)\n"
     ]
    },
    {
     "data": {
      "text/plain": [
       "{'social medium': 0.527,\n",
       " 'group formation': 0.457,\n",
       " 'electronic learning': 0.306,\n",
       " 'na bayes classifier': 0.196,\n",
       " 'bayes classifier': 0.179,\n",
       " 'na bayes': 0.149,\n",
       " 'great potential': 0.135,\n",
       " 'accuracy precision': 0.126,\n",
       " 'precision recall': 0.12,\n",
       " 'prototype developed': 0.098,\n",
       " 'data item': 0.092,\n",
       " 'already known': 0.09,\n",
       " 'classifier also': 0.088,\n",
       " 'new user': 0.084,\n",
       " 'given data': 0.084,\n",
       " 'data object': 0.084,\n",
       " 'user group': 0.083,\n",
       " 'collection data': 0.083,\n",
       " 'learning system': 0.08,\n",
       " 'unsupervised learning': 0.079}"
      ]
     },
     "execution_count": 7,
     "metadata": {},
     "output_type": "execute_result"
    }
   ],
   "source": [
    "extract_keywords_paper(text = data.iloc[0].text, train_corpus = train_df, num_keywords = 20)"
   ]
  },
  {
   "cell_type": "code",
   "execution_count": 13,
   "metadata": {},
   "outputs": [
    {
     "data": {
      "text/plain": [
       "'Through the study, it was underscored that inasmuch as the social media has a great potential in education, this has not been exploited to a greater percentage. The techniques that are currently used in group formation and learning are mostly manual and so not efficient. They therefore come with a lot of challenges including time wastage. Through social media a better and more efficient way of clustering can be used to enable electronic learning generally and group formation specifically.'"
      ]
     },
     "execution_count": 13,
     "metadata": {},
     "output_type": "execute_result"
    }
   ],
   "source": [
    "data.iloc[0].sections['Conclusion']"
   ]
  },
  {
   "cell_type": "code",
   "execution_count": 17,
   "metadata": {},
   "outputs": [
    {
     "name": "stdout",
     "output_type": "stream",
     "text": [
      "4\n"
     ]
    },
    {
     "data": {
      "text/plain": [
       "{'way clustering used enable': 0.146,\n",
       " 'way clustering used': 0.146,\n",
       " 'way clustering': 0.146,\n",
       " 'way': 0.146,\n",
       " 'used enable electronic learning': 0.146,\n",
       " 'used enable electronic': 0.146,\n",
       " 'used enable': 0.146,\n",
       " 'specifically': 0.146,\n",
       " 'social medium better efficient': 0.146,\n",
       " 'social medium better': 0.146,\n",
       " 'medium better efficient way': 0.146,\n",
       " 'medium better efficient': 0.146,\n",
       " 'medium better': 0.146,\n",
       " 'learning generally group formation': 0.146,\n",
       " 'learning generally group': 0.146,\n",
       " 'learning generally': 0.146,\n",
       " 'group formation specifically': 0.146,\n",
       " 'generally group formation specifically': 0.146,\n",
       " 'generally group formation': 0.146,\n",
       " 'generally group': 0.146}"
      ]
     },
     "execution_count": 17,
     "metadata": {},
     "output_type": "execute_result"
    }
   ],
   "source": [
    "extract_keywords_section_1(data.iloc[0].sections['Conclusion'], 20)"
   ]
  },
  {
   "cell_type": "code",
   "execution_count": 15,
   "metadata": {},
   "outputs": [],
   "source": [
    "from nltk import sent_tokenize\n",
    "from nltk.corpus import stopwords\n",
    "import re\n",
    "from sklearn.feature_extraction.text import CountVectorizer\n",
    "\n",
    "from nltk.stem.porter import PorterStemmer\n",
    "from nltk.tokenize import RegexpTokenizer\n",
    "#nltk.download('wordnet') \n",
    "from nltk.stem.wordnet import WordNetLemmatizer\n",
    "from sklearn.feature_extraction.text import TfidfTransformer\n",
    "from scipy.sparse import coo_matrix\n",
    "\n",
    "\n",
    "def sort_coo(coo_matrix):\n",
    "    tuples = zip(coo_matrix.col, coo_matrix.data)\n",
    "    return sorted(tuples, key=lambda x: (x[1], x[0]), reverse=True)\n",
    " \n",
    "def extract_topn_from_vector(feature_names, sorted_items, topn=20):\n",
    "    \"\"\"get the feature names and tf-idf score of top n items\"\"\"\n",
    "    \n",
    "    #use only topn items from vector\n",
    "    sorted_items = sorted_items[:topn]\n",
    " \n",
    "    score_vals = []\n",
    "    feature_vals = []\n",
    "    \n",
    "    # word index and corresponding tf-idf score\n",
    "    for idx, score in sorted_items:\n",
    "        \n",
    "        #keep track of feature name and its corresponding score\n",
    "        score_vals.append(round(score, 3))\n",
    "        feature_vals.append(feature_names[idx])\n",
    " \n",
    "    #create a tuples of feature,score\n",
    "    #results = zip(feature_vals,score_vals)\n",
    "    results= {}\n",
    "    for idx in range(len(feature_vals)):\n",
    "        results[feature_vals[idx]]=score_vals[idx]\n",
    "    \n",
    "    return results\n",
    "\n",
    "\n",
    "def extract_keywords_section_1(text, num_keywords):\n",
    "    train_corpus = sent_tokenize(text)\n",
    "        \n",
    "    stop_words = set(stopwords.words(\"english\"))\n",
    "    \n",
    "    corpus = []\n",
    "    print(len(train_corpus))\n",
    "    \n",
    "    for i in train_corpus:\n",
    "        #Remove punctuations\n",
    "        text = re.sub('[^a-zA-Z]', ' ', i)\n",
    "\n",
    "        #Convert to lowercase\n",
    "        text = text.lower()\n",
    "\n",
    "        #remove tags\n",
    "        text=re.sub(\"&lt;/?.*?&gt;\",\" &lt;&gt; \",text)\n",
    "\n",
    "        # remove special characters and digits\n",
    "        text=re.sub(\"(\\\\d|\\\\W)+\",\" \",text)\n",
    "\n",
    "        ##Convert to list from string\n",
    "        text = text.split()\n",
    "\n",
    "        ##Stemming\n",
    "        ps=PorterStemmer()\n",
    "        #Lemmatisation\n",
    "        lem = WordNetLemmatizer()\n",
    "        text = [lem.lemmatize(word) for word in text if not word in  \n",
    "                stop_words] \n",
    "        text = \" \".join(text)\n",
    "        corpus.append(text)\n",
    "        \n",
    "    cv=CountVectorizer(max_df=0.8,stop_words=stop_words, max_features=10000, ngram_range=(1,4))\n",
    "    X=cv.fit_transform(corpus)\n",
    "    \n",
    "    tfidf_transformer=TfidfTransformer(smooth_idf=True,use_idf=True)\n",
    "    tfidf_transformer.fit(X)\n",
    "    # get feature names\n",
    "    feature_names=cv.get_feature_names()\n",
    "\n",
    "    # fetch document for which keywords needs to be extracted\n",
    "\n",
    "    #generate tf-idf for the given document\n",
    "    tf_idf_vector=tfidf_transformer.transform(cv.transform([text]))\n",
    "    \n",
    "    #sort the tf-idf vectors by descending order of scores\n",
    "    sorted_items=sort_coo(tf_idf_vector.tocoo())\n",
    "    #extract only the top n; n here is 10\n",
    "    keywords=extract_topn_from_vector(feature_names,sorted_items,num_keywords)\n",
    "\n",
    "    return keywords"
   ]
  },
  {
   "cell_type": "code",
   "execution_count": null,
   "metadata": {},
   "outputs": [],
   "source": []
  },
  {
   "cell_type": "code",
   "execution_count": null,
   "metadata": {},
   "outputs": [],
   "source": []
  },
  {
   "cell_type": "code",
   "execution_count": null,
   "metadata": {},
   "outputs": [],
   "source": []
  },
  {
   "cell_type": "code",
   "execution_count": null,
   "metadata": {},
   "outputs": [],
   "source": []
  },
  {
   "cell_type": "code",
   "execution_count": null,
   "metadata": {},
   "outputs": [],
   "source": []
  },
  {
   "cell_type": "code",
   "execution_count": null,
   "metadata": {},
   "outputs": [],
   "source": []
  },
  {
   "cell_type": "code",
   "execution_count": null,
   "metadata": {},
   "outputs": [],
   "source": []
  },
  {
   "cell_type": "code",
   "execution_count": null,
   "metadata": {},
   "outputs": [],
   "source": []
  },
  {
   "cell_type": "code",
   "execution_count": null,
   "metadata": {},
   "outputs": [],
   "source": []
  }
 ],
 "metadata": {
  "kernelspec": {
   "display_name": "Python 3.7.5 64-bit",
   "language": "python",
   "name": "python3"
  },
  "language_info": {
   "codemirror_mode": {
    "name": "ipython",
    "version": 3
   },
   "file_extension": ".py",
   "mimetype": "text/x-python",
   "name": "python",
   "nbconvert_exporter": "python",
   "pygments_lexer": "ipython3",
   "version": "3.7.5"
  },
  "vscode": {
   "interpreter": {
    "hash": "82d4c6f819cf47785f735f902f00da8643513d08dab4f4c7470bccf934b8d2d6"
   }
  }
 },
 "nbformat": 4,
 "nbformat_minor": 4
}
