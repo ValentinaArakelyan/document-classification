{
 "cells": [
  {
   "cell_type": "code",
   "execution_count": 35,
   "metadata": {},
   "outputs": [],
   "source": [
    "import numpy as np\n",
    "import pandas as pd\n",
    "import os\n",
    "from tqdm import tqdm\n",
    "import PyPDF2\n",
    "import xml.etree.ElementTree as ET\n",
    "from xml.dom import minidom\n",
    "from nltk import sent_tokenize\n",
    "import matplotlib.pyplot as plt\n",
    "import seaborn as sn\n",
    "from scipy import stats "
   ]
  },
  {
   "cell_type": "code",
   "execution_count": 2,
   "metadata": {},
   "outputs": [],
   "source": [
    "def get_sections(doc):\n",
    "    sections = {}\n",
    "    for elem in doc.getElementsByTagName('body')[0].getElementsByTagName('div'):\n",
    "        attributes = elem.getElementsByTagName('head')[0].attributes\n",
    "        if 'n' in dict(attributes):\n",
    "            head = elem.getElementsByTagName('head')[0].firstChild.data\n",
    "            \n",
    "            text = ' '.join([' '.join([i.data if i.nodeType == i.TEXT_NODE else i.firstChild.data \n",
    "                             for i in j.childNodes]) if j.tagName != 'formula' else j.attributes['xml:id'].value\n",
    "                   for j in elem.childNodes[1:]])\n",
    "            \n",
    "            sections[head] = text\n",
    "            \n",
    "    return sections"
   ]
  },
  {
   "cell_type": "code",
   "execution_count": null,
   "metadata": {},
   "outputs": [],
   "source": []
  },
  {
   "cell_type": "markdown",
   "metadata": {},
   "source": [
    "## Page Numbers' calculation"
   ]
  },
  {
   "cell_type": "code",
   "execution_count": 3,
   "metadata": {},
   "outputs": [
    {
     "data": {
      "text/plain": [
       "12"
      ]
     },
     "execution_count": 3,
     "metadata": {},
     "output_type": "execute_result"
    }
   ],
   "source": [
    "category_names = os.listdir('D:\\Ani\\Thesis\\sciencePG')[:-1]\n",
    "len(category_names)"
   ]
  },
  {
   "cell_type": "code",
   "execution_count": 4,
   "metadata": {
    "scrolled": true
   },
   "outputs": [
    {
     "name": "stderr",
     "output_type": "stream",
     "text": [
      "\r",
      "  0%|                                                                                           | 0/23 [00:00<?, ?it/s]"
     ]
    },
    {
     "name": "stdout",
     "output_type": "stream",
     "text": [
      "Artificial Intelligence\n"
     ]
    },
    {
     "name": "stderr",
     "output_type": "stream",
     "text": [
      "PdfReadWarning: Xref table not zero-indexed. ID numbers for objects will be corrected. [pdf.py:1736]\n",
      "100%|██████████████████████████████████████████████████████████████████████████████████| 23/23 [00:02<00:00,  8.68it/s]\n",
      " 10%|████████                                                                           | 3/31 [00:00<00:01, 26.07it/s]"
     ]
    },
    {
     "name": "stdout",
     "output_type": "stream",
     "text": [
      "Computer Science and Technology\n"
     ]
    },
    {
     "name": "stderr",
     "output_type": "stream",
     "text": [
      "100%|██████████████████████████████████████████████████████████████████████████████████| 31/31 [00:01<00:00, 17.73it/s]\n",
      "  2%|█▍                                                                                | 2/116 [00:00<00:05, 19.88it/s]"
     ]
    },
    {
     "name": "stdout",
     "output_type": "stream",
     "text": [
      "Control and Intelligent Systems\n"
     ]
    },
    {
     "name": "stderr",
     "output_type": "stream",
     "text": [
      "100%|████████████████████████████████████████████████████████████████████████████████| 116/116 [00:05<00:00, 19.94it/s]\n",
      "  5%|████▎                                                                              | 2/39 [00:00<00:02, 17.13it/s]"
     ]
    },
    {
     "name": "stdout",
     "output_type": "stream",
     "text": [
      "Data Mining and Knowledge Discovery\n"
     ]
    },
    {
     "name": "stderr",
     "output_type": "stream",
     "text": [
      "100%|██████████████████████████████████████████████████████████████████████████████████| 39/39 [00:01<00:00, 20.64it/s]\n",
      "  2%|██                                                                                 | 2/81 [00:00<00:05, 15.65it/s]"
     ]
    },
    {
     "name": "stdout",
     "output_type": "stream",
     "text": [
      "Data Science and Analysis\n"
     ]
    },
    {
     "name": "stderr",
     "output_type": "stream",
     "text": [
      "100%|██████████████████████████████████████████████████████████████████████████████████| 81/81 [00:04<00:00, 19.43it/s]\n",
      "  3%|██▋                                                                                | 2/61 [00:00<00:03, 14.97it/s]"
     ]
    },
    {
     "name": "stdout",
     "output_type": "stream",
     "text": [
      "Data Science and Technology\n"
     ]
    },
    {
     "name": "stderr",
     "output_type": "stream",
     "text": [
      "100%|██████████████████████████████████████████████████████████████████████████████████| 61/61 [00:03<00:00, 18.18it/s]\n",
      "  0%|                                                                                           | 0/35 [00:00<?, ?it/s]"
     ]
    },
    {
     "name": "stdout",
     "output_type": "stream",
     "text": [
      "Information Science and Technology\n"
     ]
    },
    {
     "name": "stderr",
     "output_type": "stream",
     "text": [
      "100%|██████████████████████████████████████████████████████████████████████████████████| 35/35 [00:01<00:00, 17.75it/s]\n",
      "  3%|██▌                                                                                | 3/96 [00:00<00:04, 21.11it/s]"
     ]
    },
    {
     "name": "stdout",
     "output_type": "stream",
     "text": [
      "Intelligent Information Systems\n"
     ]
    },
    {
     "name": "stderr",
     "output_type": "stream",
     "text": [
      "100%|██████████████████████████████████████████████████████████████████████████████████| 96/96 [00:04<00:00, 20.39it/s]\n",
      "  4%|███▍                                                                               | 2/49 [00:00<00:02, 18.88it/s]"
     ]
    },
    {
     "name": "stdout",
     "output_type": "stream",
     "text": [
      "Machine Learning Research\n"
     ]
    },
    {
     "name": "stderr",
     "output_type": "stream",
     "text": [
      "100%|██████████████████████████████████████████████████████████████████████████████████| 49/49 [00:03<00:00, 15.38it/s]\n",
      "  5%|████▍                                                                              | 3/56 [00:00<00:02, 25.30it/s]"
     ]
    },
    {
     "name": "stdout",
     "output_type": "stream",
     "text": [
      "Mathematical and Computer Modelling\n"
     ]
    },
    {
     "name": "stderr",
     "output_type": "stream",
     "text": [
      "100%|██████████████████████████████████████████████████████████████████████████████████| 56/56 [00:02<00:00, 18.79it/s]\n",
      "  3%|██▏                                                                                | 2/78 [00:00<00:04, 17.36it/s]"
     ]
    },
    {
     "name": "stdout",
     "output_type": "stream",
     "text": [
      "Mathematics and Computer Science\n"
     ]
    },
    {
     "name": "stderr",
     "output_type": "stream",
     "text": [
      "100%|██████████████████████████████████████████████████████████████████████████████████| 78/78 [00:04<00:00, 19.42it/s]\n",
      "  5%|████▎                                                                              | 2/38 [00:00<00:02, 14.81it/s]"
     ]
    },
    {
     "name": "stdout",
     "output_type": "stream",
     "text": [
      "Neural Networks and Applications\n"
     ]
    },
    {
     "name": "stderr",
     "output_type": "stream",
     "text": [
      "100%|██████████████████████████████████████████████████████████████████████████████████| 38/38 [00:01<00:00, 20.45it/s]\n"
     ]
    }
   ],
   "source": [
    "categories = []\n",
    "papers = []\n",
    "page_nums = []\n",
    "invalid_pdfs = []\n",
    "\n",
    "for category in category_names:\n",
    "    paper_names = os.listdir(os.path.join('D:\\Ani\\Thesis\\sciencePG', category))\n",
    "    print(category)\n",
    "    for paper_name in tqdm(paper_names):\n",
    "        if paper_name[-4:] != '.pdf':\n",
    "            continue\n",
    "        \n",
    "        file_name = os.path.join('D:\\Ani\\Thesis\\sciencePG', category, paper_name)\n",
    "        \n",
    "        with open(file_name, 'rb') as pdfFileObj:\n",
    "            try:\n",
    "                pdfReader = PyPDF2.PdfFileReader(pdfFileObj)\n",
    "                page_nums.append(pdfReader.numPages)\n",
    "                \n",
    "                categories.append(category)\n",
    "                papers.append(paper_name)\n",
    "            except:\n",
    "                invalid_pdfs.append(file_name)"
   ]
  },
  {
   "cell_type": "code",
   "execution_count": 5,
   "metadata": {},
   "outputs": [
    {
     "data": {
      "text/html": [
       "<div>\n",
       "<style scoped>\n",
       "    .dataframe tbody tr th:only-of-type {\n",
       "        vertical-align: middle;\n",
       "    }\n",
       "\n",
       "    .dataframe tbody tr th {\n",
       "        vertical-align: top;\n",
       "    }\n",
       "\n",
       "    .dataframe thead th {\n",
       "        text-align: right;\n",
       "    }\n",
       "</style>\n",
       "<table border=\"1\" class=\"dataframe\">\n",
       "  <thead>\n",
       "    <tr style=\"text-align: right;\">\n",
       "      <th></th>\n",
       "      <th>category</th>\n",
       "      <th>name</th>\n",
       "      <th>num_pages</th>\n",
       "    </tr>\n",
       "  </thead>\n",
       "  <tbody>\n",
       "    <tr>\n",
       "      <th>0</th>\n",
       "      <td>Artificial Intelligence</td>\n",
       "      <td>A Comprehensive Review on Heart Disease Predic...</td>\n",
       "      <td>10</td>\n",
       "    </tr>\n",
       "    <tr>\n",
       "      <th>1</th>\n",
       "      <td>Artificial Intelligence</td>\n",
       "      <td>A Model for Clustering Social Media Data for E...</td>\n",
       "      <td>4</td>\n",
       "    </tr>\n",
       "    <tr>\n",
       "      <th>2</th>\n",
       "      <td>Artificial Intelligence</td>\n",
       "      <td>A Neural Network Scheme for Monetary Policy Ra...</td>\n",
       "      <td>11</td>\n",
       "    </tr>\n",
       "    <tr>\n",
       "      <th>3</th>\n",
       "      <td>Artificial Intelligence</td>\n",
       "      <td>A Neuro-Fuzzy Case Based Reasoning Framework f...</td>\n",
       "      <td>8</td>\n",
       "    </tr>\n",
       "    <tr>\n",
       "      <th>4</th>\n",
       "      <td>Artificial Intelligence</td>\n",
       "      <td>An Intelligent System for Traffic Control in S...</td>\n",
       "      <td>8</td>\n",
       "    </tr>\n",
       "  </tbody>\n",
       "</table>\n",
       "</div>"
      ],
      "text/plain": [
       "                  category                                               name  \\\n",
       "0  Artificial Intelligence  A Comprehensive Review on Heart Disease Predic...   \n",
       "1  Artificial Intelligence  A Model for Clustering Social Media Data for E...   \n",
       "2  Artificial Intelligence  A Neural Network Scheme for Monetary Policy Ra...   \n",
       "3  Artificial Intelligence  A Neuro-Fuzzy Case Based Reasoning Framework f...   \n",
       "4  Artificial Intelligence  An Intelligent System for Traffic Control in S...   \n",
       "\n",
       "   num_pages  \n",
       "0         10  \n",
       "1          4  \n",
       "2         11  \n",
       "3          8  \n",
       "4          8  "
      ]
     },
     "execution_count": 5,
     "metadata": {},
     "output_type": "execute_result"
    }
   ],
   "source": [
    "dataset = pd.DataFrame({'category': categories, 'name': papers, 'num_pages': page_nums})\n",
    "dataset.head()"
   ]
  },
  {
   "cell_type": "markdown",
   "metadata": {},
   "source": [
    "## Extracting Content from XML files"
   ]
  },
  {
   "cell_type": "code",
   "execution_count": 6,
   "metadata": {},
   "outputs": [],
   "source": [
    "doc = minidom.parse('D:\\Ani\\Thesis\\sciencePG\\Mathematics and Computer Science\\Mathematics_and_Computer_Science_xml\\A Matrix Representation of an n-Person 0-1 Game and Its 0-1 Tail Algorithm to Find (Strictly) Pure Nash Equilibria.tei.xml')"
   ]
  },
  {
   "cell_type": "code",
   "execution_count": null,
   "metadata": {},
   "outputs": [],
   "source": [
    "title = doc.getElementsByTagName('title')[0].firstChild.data\n",
    "keywords = [child.firstChild.data for child in doc.getElementsByTagName('keywords')[0].getElementsByTagName('term')]\n",
    "abstract = doc.getElementsByTagName('abstract')[0].getElementsByTagName('p')[0].firstChild.data\n",
    "num_formulas = len(doc.getElementsByTagName('formula'))\n",
    "num_figures = len(doc.getElementsByTagName('figure'))\n",
    "section = get_sections(doc)"
   ]
  },
  {
   "cell_type": "code",
   "execution_count": null,
   "metadata": {},
   "outputs": [],
   "source": [
    "title"
   ]
  },
  {
   "cell_type": "code",
   "execution_count": null,
   "metadata": {},
   "outputs": [],
   "source": [
    "keywords"
   ]
  },
  {
   "cell_type": "code",
   "execution_count": null,
   "metadata": {},
   "outputs": [],
   "source": [
    "abstract"
   ]
  },
  {
   "cell_type": "code",
   "execution_count": null,
   "metadata": {},
   "outputs": [],
   "source": [
    "section['Introduction']"
   ]
  },
  {
   "cell_type": "code",
   "execution_count": null,
   "metadata": {},
   "outputs": [],
   "source": []
  },
  {
   "cell_type": "code",
   "execution_count": null,
   "metadata": {},
   "outputs": [],
   "source": []
  },
  {
   "cell_type": "code",
   "execution_count": null,
   "metadata": {},
   "outputs": [],
   "source": []
  },
  {
   "cell_type": "code",
   "execution_count": 6,
   "metadata": {
    "scrolled": true
   },
   "outputs": [
    {
     "name": "stderr",
     "output_type": "stream",
     "text": [
      "29it [00:02, 19.34it/s]"
     ]
    },
    {
     "name": "stdout",
     "output_type": "stream",
     "text": [
      "[Errno 2] No such file or directory: 'D:\\\\Ani\\\\Thesis\\\\sciencePG\\\\Computer Science and Technology\\\\Computer_Science_and_Technology_xml\\\\Adaptive Neuro-Fuzzy Inference System (ANFIS) and Artificial Neural Network (ANN) for Predicting the Kinematic Viscosity and Density of Biodiesel-Petroleum Diesel Blends.tei.xml'\n",
      "D:\\Ani\\Thesis\\sciencePG\\Computer Science and Technology\\Computer_Science_and_Technology_xml\\Adaptive Neuro-Fuzzy Inference System (ANFIS) and Artificial Neural Network (ANN) for Predicting the Kinematic Viscosity and Density of Biodiesel-Petroleum Diesel Blends.tei.xml\n"
     ]
    },
    {
     "name": "stderr",
     "output_type": "stream",
     "text": [
      "73it [00:05, 19.25it/s]"
     ]
    },
    {
     "name": "stdout",
     "output_type": "stream",
     "text": [
      "list index out of range\n",
      "D:\\Ani\\Thesis\\sciencePG\\Control and Intelligent Systems\\Control_and_Intelligent_Systems_xml\\Analysis of the Development and Application of Salary Management System in China Railway Enterprises.tei.xml\n"
     ]
    },
    {
     "name": "stderr",
     "output_type": "stream",
     "text": [
      "372it [00:21, 22.62it/s]"
     ]
    },
    {
     "name": "stdout",
     "output_type": "stream",
     "text": [
      "[Errno 2] No such file or directory: 'D:\\\\Ani\\\\Thesis\\\\sciencePG\\\\Information Science and Technology\\\\Information_Science_and_Technology_xml\\\\Plasmid Profile Analysis and Curing of Multidrug-Resistant Bacteria Isolated from Hospital Environmental Surfaces in Akure Metropolis, Ondo State, Nigeria.tei.xml'\n",
      "D:\\Ani\\Thesis\\sciencePG\\Information Science and Technology\\Information_Science_and_Technology_xml\\Plasmid Profile Analysis and Curing of Multidrug-Resistant Bacteria Isolated from Hospital Environmental Surfaces in Akure Metropolis, Ondo State, Nigeria.tei.xml\n",
      "[Errno 2] No such file or directory: 'D:\\\\Ani\\\\Thesis\\\\sciencePG\\\\Information Science and Technology\\\\Information_Science_and_Technology_xml\\\\The Assessment of Practice and Challenges of Industries’ Participation in Implementation of Occupational Competency Assessment The Case of Addis Ababa City.tei.xml'\n",
      "D:\\Ani\\Thesis\\sciencePG\\Information Science and Technology\\Information_Science_and_Technology_xml\\The Assessment of Practice and Challenges of Industries’ Participation in Implementation of Occupational Competency Assessment The Case of Addis Ababa City.tei.xml\n"
     ]
    },
    {
     "name": "stderr",
     "output_type": "stream",
     "text": [
      "434it [00:25, 19.72it/s]"
     ]
    },
    {
     "name": "stdout",
     "output_type": "stream",
     "text": [
      "[Errno 2] No such file or directory: 'D:\\\\Ani\\\\Thesis\\\\sciencePG\\\\Intelligent Information Systems\\\\Intelligent_Information_Systems_xml\\\\Information Accessibility and Utilization The Panacea to Job Performance and Productivity of Academic StaffIn the Faculties of Agricultural Sciences A Case Study.tei.xml'\n",
      "D:\\Ani\\Thesis\\sciencePG\\Intelligent Information Systems\\Intelligent_Information_Systems_xml\\Information Accessibility and Utilization The Panacea to Job Performance and Productivity of Academic StaffIn the Faculties of Agricultural Sciences A Case Study.tei.xml\n"
     ]
    },
    {
     "name": "stderr",
     "output_type": "stream",
     "text": [
      "456it [00:26, 22.01it/s]"
     ]
    },
    {
     "name": "stdout",
     "output_type": "stream",
     "text": [
      "[Errno 2] No such file or directory: 'D:\\\\Ani\\\\Thesis\\\\sciencePG\\\\Intelligent Information Systems\\\\Intelligent_Information_Systems_xml\\\\Relationship between Human Characteristics and Adoption of Project Management Information System in Non-Governmental Organizations’ Projects in Nakuru Town (Kenya).tei.xml'\n",
      "D:\\Ani\\Thesis\\sciencePG\\Intelligent Information Systems\\Intelligent_Information_Systems_xml\\Relationship between Human Characteristics and Adoption of Project Management Information System in Non-Governmental Organizations’ Projects in Nakuru Town (Kenya).tei.xml\n"
     ]
    },
    {
     "name": "stderr",
     "output_type": "stream",
     "text": [
      "533it [00:31, 15.49it/s]"
     ]
    },
    {
     "name": "stdout",
     "output_type": "stream",
     "text": [
      "[Errno 2] No such file or directory: 'D:\\\\Ani\\\\Thesis\\\\sciencePG\\\\Mathematical and Computer Modelling\\\\Mathematical_and_Computer_Modelling_xml\\\\Application of Multiple Linear Regression Technique to Predict Noise Pollution Levels and Their Spatial Patterns in the Tarkwa Mining Community of Ghana.tei.xml'\n",
      "D:\\Ani\\Thesis\\sciencePG\\Mathematical and Computer Modelling\\Mathematical_and_Computer_Modelling_xml\\Application of Multiple Linear Regression Technique to Predict Noise Pollution Levels and Their Spatial Patterns in the Tarkwa Mining Community of Ghana.tei.xml\n"
     ]
    },
    {
     "name": "stderr",
     "output_type": "stream",
     "text": [
      "574it [00:35, 14.93it/s]"
     ]
    },
    {
     "name": "stdout",
     "output_type": "stream",
     "text": [
      "'Text' object has no attribute 'tagName'\n",
      "D:\\Ani\\Thesis\\sciencePG\\Mathematics and Computer Science\\Mathematics_and_Computer_Science_xml\\A Note on Some Equivalences of Operators and Topology of Invariant Subspaces.tei.xml\n"
     ]
    },
    {
     "name": "stderr",
     "output_type": "stream",
     "text": [
      "674it [00:38, 27.47it/s]"
     ]
    },
    {
     "name": "stdout",
     "output_type": "stream",
     "text": [
      "[Errno 2] No such file or directory: 'D:\\\\Ani\\\\Thesis\\\\sciencePG\\\\Neural Networks and Applications\\\\Neural_Networks_and_Applications_xml\\\\Modeling and Optimization of Carbon Steel AISI 1045 Surface Roughness in CNC Turning Based on Response Surface Methodology and Heuristic Optimization Algorithms.tei.xml'\n",
      "D:\\Ani\\Thesis\\sciencePG\\Neural Networks and Applications\\Neural_Networks_and_Applications_xml\\Modeling and Optimization of Carbon Steel AISI 1045 Surface Roughness in CNC Turning Based on Response Surface Methodology and Heuristic Optimization Algorithms.tei.xml\n"
     ]
    },
    {
     "name": "stderr",
     "output_type": "stream",
     "text": [
      "680it [00:38, 17.52it/s]\n"
     ]
    }
   ],
   "source": [
    "title_list = []\n",
    "keywords_list = []\n",
    "abstract_list = []\n",
    "num_formulas_list = []\n",
    "num_figures_list = []\n",
    "sections_list = []\n",
    "\n",
    "for row in tqdm(dataset.iterrows()):\n",
    "    category = row[1]['category']\n",
    "    pdf_name = row[1]['name']\n",
    "    \n",
    "    xml_name = pdf_name[:-3] + 'tei.xml'\n",
    "    xml_path = os.path.join('D:\\Ani\\Thesis\\sciencePG', category, category.replace(' ', '_') + '_xml', xml_name)\n",
    "    \n",
    "    try:\n",
    "        doc = minidom.parse(xml_path)\n",
    "\n",
    "        title = doc.getElementsByTagName('title')[0].firstChild.data\n",
    "        keywords = [child.firstChild.data for child in doc.getElementsByTagName('keywords')[0].getElementsByTagName('term')]\n",
    "        abstract = doc.getElementsByTagName('abstract')[0].getElementsByTagName('p')[0].firstChild.data\n",
    "        \n",
    "        num_formulas = len(doc.getElementsByTagName('formula'))\n",
    "        num_figures = len(doc.getElementsByTagName('figure'))\n",
    "        sections = get_sections(doc)\n",
    "        \n",
    "        title_list.append(title)\n",
    "        sections_list.append(sections)\n",
    "        keywords_list.append(keywords)\n",
    "        abstract_list.append(abstract)\n",
    "        num_formulas_list.append(num_formulas)\n",
    "        num_figures_list.append(num_figures)\n",
    "        \n",
    "    except Exception as e:\n",
    "        print(e)\n",
    "        print(xml_path)\n",
    "        title_list.append('error')\n",
    "        keywords_list.append([])\n",
    "        abstract_list.append('')\n",
    "        num_formulas_list.append(0)\n",
    "        num_figures_list.append(0)\n",
    "        sections_list.append('')"
   ]
  },
  {
   "cell_type": "code",
   "execution_count": 7,
   "metadata": {},
   "outputs": [],
   "source": [
    "dataset['num_formulas'] = num_formulas_list\n",
    "dataset['num_figures'] = num_figures_list\n",
    "dataset['title'] = title_list\n",
    "dataset['keywords'] = keywords_list\n",
    "dataset['abstract'] = abstract_list\n",
    "dataset['sections'] = sections_list"
   ]
  },
  {
   "cell_type": "code",
   "execution_count": 8,
   "metadata": {},
   "outputs": [
    {
     "data": {
      "text/html": [
       "<div>\n",
       "<style scoped>\n",
       "    .dataframe tbody tr th:only-of-type {\n",
       "        vertical-align: middle;\n",
       "    }\n",
       "\n",
       "    .dataframe tbody tr th {\n",
       "        vertical-align: top;\n",
       "    }\n",
       "\n",
       "    .dataframe thead th {\n",
       "        text-align: right;\n",
       "    }\n",
       "</style>\n",
       "<table border=\"1\" class=\"dataframe\">\n",
       "  <thead>\n",
       "    <tr style=\"text-align: right;\">\n",
       "      <th></th>\n",
       "      <th>category</th>\n",
       "      <th>name</th>\n",
       "      <th>num_pages</th>\n",
       "      <th>num_formulas</th>\n",
       "      <th>num_figures</th>\n",
       "      <th>title</th>\n",
       "      <th>keywords</th>\n",
       "      <th>abstract</th>\n",
       "      <th>sections</th>\n",
       "    </tr>\n",
       "  </thead>\n",
       "  <tbody>\n",
       "    <tr>\n",
       "      <th>0</th>\n",
       "      <td>Artificial Intelligence</td>\n",
       "      <td>A Comprehensive Review on Heart Disease Predic...</td>\n",
       "      <td>10</td>\n",
       "      <td>0</td>\n",
       "      <td>0</td>\n",
       "      <td>A Comprehensive Review on Heart Disease Predic...</td>\n",
       "      <td>[Data Mining, Machine Learning, Heart Disease,...</td>\n",
       "      <td>Heart disease is one of the major causes of li...</td>\n",
       "      <td>{'Introduction': 'The heart is one of the most...</td>\n",
       "    </tr>\n",
       "    <tr>\n",
       "      <th>1</th>\n",
       "      <td>Artificial Intelligence</td>\n",
       "      <td>A Model for Clustering Social Media Data for E...</td>\n",
       "      <td>4</td>\n",
       "      <td>0</td>\n",
       "      <td>4</td>\n",
       "      <td>A Model for Clustering Social Media Data for E...</td>\n",
       "      <td>[Social Media, Twitter Application Programming...</td>\n",
       "      <td>Through Social media, people are able to write...</td>\n",
       "      <td>{'Introduction': 'Clustering is a descriptive ...</td>\n",
       "    </tr>\n",
       "    <tr>\n",
       "      <th>2</th>\n",
       "      <td>Artificial Intelligence</td>\n",
       "      <td>A Neural Network Scheme for Monetary Policy Ra...</td>\n",
       "      <td>11</td>\n",
       "      <td>13</td>\n",
       "      <td>9</td>\n",
       "      <td>A Neural Network Scheme for Monetary Policy Ra...</td>\n",
       "      <td>[Monetary Policy, Artificial Neural Network, T...</td>\n",
       "      <td>This research work is an exploratory study tha...</td>\n",
       "      <td>{'Introduction': 'Monetary policy has been def...</td>\n",
       "    </tr>\n",
       "    <tr>\n",
       "      <th>3</th>\n",
       "      <td>Artificial Intelligence</td>\n",
       "      <td>A Neuro-Fuzzy Case Based Reasoning Framework f...</td>\n",
       "      <td>8</td>\n",
       "      <td>2</td>\n",
       "      <td>8</td>\n",
       "      <td>A Neuro-Fuzzy Case Based Reasoning Framework f...</td>\n",
       "      <td>[Intelligence, Hybrid Model, Neuro-fuzzy CBR, ...</td>\n",
       "      <td>Lassa fever is an acute viral haemorrhagic fev...</td>\n",
       "      <td>{'Introduction': 'Expert Systems (ES) uses hum...</td>\n",
       "    </tr>\n",
       "    <tr>\n",
       "      <th>4</th>\n",
       "      <td>Artificial Intelligence</td>\n",
       "      <td>An Intelligent System for Traffic Control in S...</td>\n",
       "      <td>8</td>\n",
       "      <td>5</td>\n",
       "      <td>9</td>\n",
       "      <td>An Intelligent System for Traffic Control in S...</td>\n",
       "      <td>[Smart Cities, Traffic Congestion, Intelligent...</td>\n",
       "      <td>Current traffic light systems use a fixed time...</td>\n",
       "      <td>{'Introduction': '', 'Background': 'Traffic co...</td>\n",
       "    </tr>\n",
       "    <tr>\n",
       "      <th>5</th>\n",
       "      <td>Artificial Intelligence</td>\n",
       "      <td>Architecture Trends of Adaptive Educational Hy...</td>\n",
       "      <td>14</td>\n",
       "      <td>0</td>\n",
       "      <td>12</td>\n",
       "      <td>Architecture Trends of Adaptive Educational Hy...</td>\n",
       "      <td>[Adaptive Educational Hypermedia Systems, Arch...</td>\n",
       "      <td>The aim of this article is to present the gene...</td>\n",
       "      <td>{'Introduction': 'Adaptive Hypermedia Educatio...</td>\n",
       "    </tr>\n",
       "    <tr>\n",
       "      <th>6</th>\n",
       "      <td>Artificial Intelligence</td>\n",
       "      <td>Autonomous Systems and Reliability Assessment ...</td>\n",
       "      <td>6</td>\n",
       "      <td>0</td>\n",
       "      <td>2</td>\n",
       "      <td>Autonomous Systems and Reliability Assessment:...</td>\n",
       "      <td>[Autonomous, Complex Systems, Components, Reli...</td>\n",
       "      <td>The advancement of technology has heralded nov...</td>\n",
       "      <td>{'Introduction': 'The advancement in technolog...</td>\n",
       "    </tr>\n",
       "    <tr>\n",
       "      <th>7</th>\n",
       "      <td>Artificial Intelligence</td>\n",
       "      <td>Defect Identification and Maturity Detection o...</td>\n",
       "      <td>10</td>\n",
       "      <td>0</td>\n",
       "      <td>15</td>\n",
       "      <td>Defect Identification and Maturity Detection o...</td>\n",
       "      <td>[Defect Identification, Agriculture Image Proc...</td>\n",
       "      <td>The image processing and computer vision syste...</td>\n",
       "      <td>{'Introduction': 'Mango is one of the world's ...</td>\n",
       "    </tr>\n",
       "    <tr>\n",
       "      <th>8</th>\n",
       "      <td>Artificial Intelligence</td>\n",
       "      <td>Evaluation of Spatial Filtering Techniques in ...</td>\n",
       "      <td>6</td>\n",
       "      <td>8</td>\n",
       "      <td>16</td>\n",
       "      <td>Evaluation of Spatial Filtering Techniques in ...</td>\n",
       "      <td>[Fundus Images, Spatial Filtering, MSE, PSNR, ...</td>\n",
       "      <td>The denoising of the fundus images is an essen...</td>\n",
       "      <td>{'Introduction': 'Early diagnosis is crucial i...</td>\n",
       "    </tr>\n",
       "    <tr>\n",
       "      <th>9</th>\n",
       "      <td>Artificial Intelligence</td>\n",
       "      <td>Implementation of Defense in Depth Strategy to...</td>\n",
       "      <td>6</td>\n",
       "      <td>0</td>\n",
       "      <td>5</td>\n",
       "      <td>Implementation of Defense in Depth Strategy to...</td>\n",
       "      <td>[ICS, SCADA, Cybersecurity, IDS, IPS, Defense ...</td>\n",
       "      <td>The goal of this communication is to examine t...</td>\n",
       "      <td>{'Introduction': 'Industrial control systems (...</td>\n",
       "    </tr>\n",
       "    <tr>\n",
       "      <th>10</th>\n",
       "      <td>Artificial Intelligence</td>\n",
       "      <td>Model of Self-organizing Knowledge Representat...</td>\n",
       "      <td>19</td>\n",
       "      <td>0</td>\n",
       "      <td>4</td>\n",
       "      <td>Model of Self-organizing Knowledge Representat...</td>\n",
       "      <td>[Knowledge Representation Model, Knowledge Sel...</td>\n",
       "      <td>The purpose of the paper is development of a c...</td>\n",
       "      <td>{'Introduction': 'The root issues of knowledge...</td>\n",
       "    </tr>\n",
       "    <tr>\n",
       "      <th>11</th>\n",
       "      <td>Artificial Intelligence</td>\n",
       "      <td>Predicting the Seroprevalence of HBV, HCV, and...</td>\n",
       "      <td>12</td>\n",
       "      <td>0</td>\n",
       "      <td>8</td>\n",
       "      <td>Predicting the Seroprevalence of HBV, HCV, and...</td>\n",
       "      <td>[Data Mining, Blood Bank, HIV, HBC, HVC, CRISP...</td>\n",
       "      <td>Recent advancements in communication technolog...</td>\n",
       "      <td>{'Introduction': '', 'Background': 'These days...</td>\n",
       "    </tr>\n",
       "    <tr>\n",
       "      <th>12</th>\n",
       "      <td>Artificial Intelligence</td>\n",
       "      <td>Real-Time Distracted Drivers Detection Using D...</td>\n",
       "      <td>8</td>\n",
       "      <td>1</td>\n",
       "      <td>5</td>\n",
       "      <td>Real-Time Distracted Drivers Detection Using D...</td>\n",
       "      <td>[Distracted Driver, CNN, Deep Learning, Activa...</td>\n",
       "      <td>In the last few years, the number of road acci...</td>\n",
       "      <td>{'Introduction': 'According to the World Healt...</td>\n",
       "    </tr>\n",
       "    <tr>\n",
       "      <th>13</th>\n",
       "      <td>Artificial Intelligence</td>\n",
       "      <td>Reducing Human Effort of the Optical Tracking ...</td>\n",
       "      <td>6</td>\n",
       "      <td>0</td>\n",
       "      <td>9</td>\n",
       "      <td>Reducing Human Effort of the Optical Tracking ...</td>\n",
       "      <td>[Raspberry Pi, Guided Missile, Hardware-in-The...</td>\n",
       "      <td>Human role reduction in the firing process in ...</td>\n",
       "      <td>{'Introduction': 'In the second generation of ...</td>\n",
       "    </tr>\n",
       "    <tr>\n",
       "      <th>14</th>\n",
       "      <td>Artificial Intelligence</td>\n",
       "      <td>Research on the Framework of Smart City Operat...</td>\n",
       "      <td>6</td>\n",
       "      <td>0</td>\n",
       "      <td>8</td>\n",
       "      <td>Research on the Framework of Smart City Operat...</td>\n",
       "      <td>[Information and Communication Technologies (I...</td>\n",
       "      <td>With the deepening of Chinses national strateg...</td>\n",
       "      <td>{'Introduction': 'At present, featured with cl...</td>\n",
       "    </tr>\n",
       "    <tr>\n",
       "      <th>15</th>\n",
       "      <td>Artificial Intelligence</td>\n",
       "      <td>Robust Fuzzy Control for 2-DOF Manipulator Sys...</td>\n",
       "      <td>6</td>\n",
       "      <td>11</td>\n",
       "      <td>7</td>\n",
       "      <td>Robust Fuzzy Control for 2-DOF Manipulator System</td>\n",
       "      <td>[Fuzzy Control, Dynamic Model, Robotic, Two DO...</td>\n",
       "      <td>Robot manipulators have become increasingly im...</td>\n",
       "      <td>{'Introduction': 'In recent years, control eng...</td>\n",
       "    </tr>\n",
       "    <tr>\n",
       "      <th>16</th>\n",
       "      <td>Artificial Intelligence</td>\n",
       "      <td>Spanish-Turkish Low-Resource Machine Translati...</td>\n",
       "      <td>8</td>\n",
       "      <td>9</td>\n",
       "      <td>1</td>\n",
       "      <td>Spanish-Turkish Low-Resource Machine Translati...</td>\n",
       "      <td>[Computational Linguistics, Natural Language P...</td>\n",
       "      <td>The quality of data-driven Machine Translation...</td>\n",
       "      <td>{'Introduction': 'Learning-based translation w...</td>\n",
       "    </tr>\n",
       "    <tr>\n",
       "      <th>17</th>\n",
       "      <td>Artificial Intelligence</td>\n",
       "      <td>The Effectiveness of Borehole Heat Exchanger D...</td>\n",
       "      <td>8</td>\n",
       "      <td>2</td>\n",
       "      <td>17</td>\n",
       "      <td>The Effectiveness of Borehole Heat Exchanger D...</td>\n",
       "      <td>[Heat Transfer Rate, Different Borehole Depths...</td>\n",
       "      <td>Excess solar thermal energy is available, whil...</td>\n",
       "      <td>{'Introduction': 'One of the most current topi...</td>\n",
       "    </tr>\n",
       "    <tr>\n",
       "      <th>18</th>\n",
       "      <td>Artificial Intelligence</td>\n",
       "      <td>The Most General Intelligent Architectures of ...</td>\n",
       "      <td>6</td>\n",
       "      <td>8</td>\n",
       "      <td>6</td>\n",
       "      <td>The Most General Intelligent Architectures of ...</td>\n",
       "      <td>[Hybrid Architectures, Intelligent System, Coo...</td>\n",
       "      <td>Hybrid systems of the fuzzy logic and neural n...</td>\n",
       "      <td>{'Introduction': 'The capability of computers,...</td>\n",
       "    </tr>\n",
       "    <tr>\n",
       "      <th>19</th>\n",
       "      <td>Artificial Intelligence</td>\n",
       "      <td>The Taxonomy of Living Organisms Using Self-or...</td>\n",
       "      <td>12</td>\n",
       "      <td>1</td>\n",
       "      <td>7</td>\n",
       "      <td>The Taxonomy of Living Organisms Using Self-or...</td>\n",
       "      <td>[Self-organizing Map, Taxonomy, Unsupervised N...</td>\n",
       "      <td>The Self Organizing Map (SOM) is an unsupervis...</td>\n",
       "      <td>{'Introduction': 'Taxonomy is the biological a...</td>\n",
       "    </tr>\n",
       "    <tr>\n",
       "      <th>20</th>\n",
       "      <td>Artificial Intelligence</td>\n",
       "      <td>Traffic Light Controller Module Based on Parti...</td>\n",
       "      <td>9</td>\n",
       "      <td>2</td>\n",
       "      <td>11</td>\n",
       "      <td>Traffic Light Controller Module Based on Parti...</td>\n",
       "      <td>[Transportation System, Traffic Light Controll...</td>\n",
       "      <td>A traffic light control module base on PSO alg...</td>\n",
       "      <td>{'Introduction': 'Nowadays, vehicular travel i...</td>\n",
       "    </tr>\n",
       "    <tr>\n",
       "      <th>21</th>\n",
       "      <td>Computer Science and Technology</td>\n",
       "      <td>A Framework for Intrusion Detection Based on W...</td>\n",
       "      <td>8</td>\n",
       "      <td>2</td>\n",
       "      <td>6</td>\n",
       "      <td>A Framework for Intrusion Detection Based on W...</td>\n",
       "      <td>[Information System Security, Intrusion Detect...</td>\n",
       "      <td>Information systems handle large amount of dat...</td>\n",
       "      <td>{'Introduction': 'Nowadays, enterprises use di...</td>\n",
       "    </tr>\n",
       "    <tr>\n",
       "      <th>22</th>\n",
       "      <td>Computer Science and Technology</td>\n",
       "      <td>A Kind of Frequency Subspace Identification Me...</td>\n",
       "      <td>5</td>\n",
       "      <td>5</td>\n",
       "      <td>3</td>\n",
       "      <td>A Kind of Frequency Subspace Identification Me...</td>\n",
       "      <td>[Subspace Identification, Time-Delay System, P...</td>\n",
       "      <td>In this paper, a problem in engineering area w...</td>\n",
       "      <td>{'Introduction': 'When it comes to the problem...</td>\n",
       "    </tr>\n",
       "    <tr>\n",
       "      <th>23</th>\n",
       "      <td>Computer Science and Technology</td>\n",
       "      <td>A New Powerful Scheme Based on Self Invertible...</td>\n",
       "      <td>5</td>\n",
       "      <td>1</td>\n",
       "      <td>2</td>\n",
       "      <td>A New Powerful Scheme Based on Self Invertible...</td>\n",
       "      <td>[Minimum Distance, Minimum Weight, BCH Codes, ...</td>\n",
       "      <td>In this paper, we present the powerful scheme ...</td>\n",
       "      <td>{'Introduction': 'In telecommunication and sto...</td>\n",
       "    </tr>\n",
       "    <tr>\n",
       "      <th>24</th>\n",
       "      <td>Computer Science and Technology</td>\n",
       "      <td>A Review of Digital Libraries and Their Impact...</td>\n",
       "      <td>8</td>\n",
       "      <td>0</td>\n",
       "      <td>0</td>\n",
       "      <td>A Review of Digital Libraries and Their Impact...</td>\n",
       "      <td>[Digital Library, Recommender Systems, Electro...</td>\n",
       "      <td>Digital libraries, recommender systems and inf...</td>\n",
       "      <td>{'Introduction': 'Digital library, as defined ...</td>\n",
       "    </tr>\n",
       "    <tr>\n",
       "      <th>25</th>\n",
       "      <td>Computer Science and Technology</td>\n",
       "      <td>Adaptive Neuro-Fuzzy Inference System (ANFIS) ...</td>\n",
       "      <td>11</td>\n",
       "      <td>0</td>\n",
       "      <td>0</td>\n",
       "      <td>error</td>\n",
       "      <td>[]</td>\n",
       "      <td></td>\n",
       "      <td></td>\n",
       "    </tr>\n",
       "    <tr>\n",
       "      <th>26</th>\n",
       "      <td>Computer Science and Technology</td>\n",
       "      <td>An Efficient Algorithm for Workflow Scheduling...</td>\n",
       "      <td>7</td>\n",
       "      <td>13</td>\n",
       "      <td>9</td>\n",
       "      <td>An Efficient Algorithm for Workflow Scheduling...</td>\n",
       "      <td>[Workflow Scheduling, Opposition-Based Differe...</td>\n",
       "      <td>The Cloud is a computing platform that provide...</td>\n",
       "      <td>{'Introduction': 'The Cloud is a computing pla...</td>\n",
       "    </tr>\n",
       "    <tr>\n",
       "      <th>27</th>\n",
       "      <td>Computer Science and Technology</td>\n",
       "      <td>Blockchain in the Implementation of VAT Collec...</td>\n",
       "      <td>9</td>\n",
       "      <td>0</td>\n",
       "      <td>10</td>\n",
       "      <td>Blockchain in the Implementation of VAT Collec...</td>\n",
       "      <td>[Secure, Optimize, VAT Collection, Blockchain,...</td>\n",
       "      <td>Tax fraud is the non-payment or the partial pa...</td>\n",
       "      <td>{'Introduction': 'Value Added Tax (VAT) is an ...</td>\n",
       "    </tr>\n",
       "    <tr>\n",
       "      <th>28</th>\n",
       "      <td>Computer Science and Technology</td>\n",
       "      <td>Blockchain Study and Analysis with a View to O...</td>\n",
       "      <td>11</td>\n",
       "      <td>0</td>\n",
       "      <td>13</td>\n",
       "      <td>Blockchain Study and Analysis with a View to O...</td>\n",
       "      <td>[Land Register, Land Book, Framework, Blockcha...</td>\n",
       "      <td>Land, according to most governments, is an imp...</td>\n",
       "      <td>{'Introduction': 'Since the creation of the na...</td>\n",
       "    </tr>\n",
       "    <tr>\n",
       "      <th>29</th>\n",
       "      <td>Computer Science and Technology</td>\n",
       "      <td>Blowfish Implementation on SoloEncrypt Securit...</td>\n",
       "      <td>6</td>\n",
       "      <td>0</td>\n",
       "      <td>7</td>\n",
       "      <td>Blowfish Implementation on SoloEncrypt Securit...</td>\n",
       "      <td>[Blowfish, SoloEncrypt, Data Security, Cloud S...</td>\n",
       "      <td>Smartphones' data security has become increasi...</td>\n",
       "      <td>{'Introduction': 'Smartphone is a phone that i...</td>\n",
       "    </tr>\n",
       "    <tr>\n",
       "      <th>...</th>\n",
       "      <td>...</td>\n",
       "      <td>...</td>\n",
       "      <td>...</td>\n",
       "      <td>...</td>\n",
       "      <td>...</td>\n",
       "      <td>...</td>\n",
       "      <td>...</td>\n",
       "      <td>...</td>\n",
       "      <td>...</td>\n",
       "    </tr>\n",
       "    <tr>\n",
       "      <th>650</th>\n",
       "      <td>Neural Networks and Applications</td>\n",
       "      <td>Application of Group Method of Data Handling T...</td>\n",
       "      <td>7</td>\n",
       "      <td>11</td>\n",
       "      <td>8</td>\n",
       "      <td>Application of Group Method of Data Handling T...</td>\n",
       "      <td>[Significant Wave Height, Prediction, Group Me...</td>\n",
       "      <td>The estimation of wave parameters is of great ...</td>\n",
       "      <td>{'Introduction': 'Waves are important factors ...</td>\n",
       "    </tr>\n",
       "    <tr>\n",
       "      <th>651</th>\n",
       "      <td>Neural Networks and Applications</td>\n",
       "      <td>Architecture of the Extended-Input Binary Neur...</td>\n",
       "      <td>7</td>\n",
       "      <td>7</td>\n",
       "      <td>3</td>\n",
       "      <td>Architecture of the Extended-Input Binary Neur...</td>\n",
       "      <td>[Architecture, Modular, Pattern Association, M...</td>\n",
       "      <td>The proposed architecture of a binary artifici...</td>\n",
       "      <td>{'Introduction': 'In designing the architectur...</td>\n",
       "    </tr>\n",
       "    <tr>\n",
       "      <th>652</th>\n",
       "      <td>Neural Networks and Applications</td>\n",
       "      <td>Artificial Immune System Based Local Search fo...</td>\n",
       "      <td>7</td>\n",
       "      <td>2</td>\n",
       "      <td>13</td>\n",
       "      <td>Artificial Immune System Based Local Search fo...</td>\n",
       "      <td>[Artificial Immune System, Local Search, Multi...</td>\n",
       "      <td>In this paper, an artificial intelligent appro...</td>\n",
       "      <td>{'Introduction': 'Computing and engineering ha...</td>\n",
       "    </tr>\n",
       "    <tr>\n",
       "      <th>653</th>\n",
       "      <td>Neural Networks and Applications</td>\n",
       "      <td>Artificial Neural Networks Analysis for Estima...</td>\n",
       "      <td>5</td>\n",
       "      <td>0</td>\n",
       "      <td>3</td>\n",
       "      <td>Artificial Neural Networks Analysis for Estima...</td>\n",
       "      <td>[Bone Mineral Density (BMD), Dual-energy X-ray...</td>\n",
       "      <td>An extensive amount of information is currentl...</td>\n",
       "      <td>{'Introduction': 'Bone is a living tissue that...</td>\n",
       "    </tr>\n",
       "    <tr>\n",
       "      <th>654</th>\n",
       "      <td>Neural Networks and Applications</td>\n",
       "      <td>Asymptotic Behaviour of Gradient Learning Algo...</td>\n",
       "      <td>10</td>\n",
       "      <td>53</td>\n",
       "      <td>10</td>\n",
       "      <td>Asymptotic Behaviour of Gradient Learning Algo...</td>\n",
       "      <td>[Neural Network, Nonlinear Model, Gradient Lea...</td>\n",
       "      <td>This paper deals with studying the asymptotica...</td>\n",
       "      <td>{'Introduction': 'Over the past decades, inter...</td>\n",
       "    </tr>\n",
       "    <tr>\n",
       "      <th>655</th>\n",
       "      <td>Neural Networks and Applications</td>\n",
       "      <td>BPSO Applied to TNEP Considering Adequacy Crit...</td>\n",
       "      <td>7</td>\n",
       "      <td>6</td>\n",
       "      <td>15</td>\n",
       "      <td>BPSO Applied to TNEP Considering Adequacy Crit...</td>\n",
       "      <td>[BPSO, Adequacy Criterion, STNEP]</td>\n",
       "      <td>Different methods have been proposed to solve ...</td>\n",
       "      <td>{'Introduction': 'The main goal of transmissio...</td>\n",
       "    </tr>\n",
       "    <tr>\n",
       "      <th>656</th>\n",
       "      <td>Neural Networks and Applications</td>\n",
       "      <td>Content-Based Image Retrieval Based on Texture...</td>\n",
       "      <td>5</td>\n",
       "      <td>3</td>\n",
       "      <td>6</td>\n",
       "      <td>Content-Based Image Retrieval Based on Texture...</td>\n",
       "      <td>[CBIR, Feature, Tamura Texture Feature, Textur...</td>\n",
       "      <td>As the development of data storage technology ...</td>\n",
       "      <td>{'Introduction': 'Information technology incre...</td>\n",
       "    </tr>\n",
       "    <tr>\n",
       "      <th>657</th>\n",
       "      <td>Neural Networks and Applications</td>\n",
       "      <td>Convergence of Online Gradient Method for Pi-s...</td>\n",
       "      <td>5</td>\n",
       "      <td>26</td>\n",
       "      <td>4</td>\n",
       "      <td>Convergence of Online Gradient Method for Pi-s...</td>\n",
       "      <td>[Convergence, Pi-sigma Network, Online Gradien...</td>\n",
       "      <td>This paper investigates an online gradient met...</td>\n",
       "      <td>{'Introduction': 'A novel higher order feedfor...</td>\n",
       "    </tr>\n",
       "    <tr>\n",
       "      <th>658</th>\n",
       "      <td>Neural Networks and Applications</td>\n",
       "      <td>Data Mining Application for Finding Patterns S...</td>\n",
       "      <td>8</td>\n",
       "      <td>0</td>\n",
       "      <td>1</td>\n",
       "      <td>Data Mining Application for Finding Patterns: ...</td>\n",
       "      <td>[Neural Network, Decision Trees, Rule Inductio...</td>\n",
       "      <td>Data Mining is now a common method for mining ...</td>\n",
       "      <td>{'Introduction': 'Data mining involves the use...</td>\n",
       "    </tr>\n",
       "    <tr>\n",
       "      <th>659</th>\n",
       "      <td>Neural Networks and Applications</td>\n",
       "      <td>Determining the Optimum Maturity of Maize Usin...</td>\n",
       "      <td>9</td>\n",
       "      <td>0</td>\n",
       "      <td>8</td>\n",
       "      <td>Determining the Optimum Maturity of Maize Usin...</td>\n",
       "      <td>[Artificial Neural Networks, Computational Int...</td>\n",
       "      <td>In recent times, the phenomenal increase in th...</td>\n",
       "      <td>{'Introduction': 'The climatic conditions acro...</td>\n",
       "    </tr>\n",
       "    <tr>\n",
       "      <th>660</th>\n",
       "      <td>Neural Networks and Applications</td>\n",
       "      <td>Each Role of Short-term and Long-term Memory i...</td>\n",
       "      <td>6</td>\n",
       "      <td>1</td>\n",
       "      <td>7</td>\n",
       "      <td>Each Role of Short-term and Long-term Memory i...</td>\n",
       "      <td>[Short-term Memory, Long-term Memory, Serial P...</td>\n",
       "      <td>Based on known functions of neuroscience the n...</td>\n",
       "      <td>{'Introduction': 'If you look back at the huma...</td>\n",
       "    </tr>\n",
       "    <tr>\n",
       "      <th>661</th>\n",
       "      <td>Neural Networks and Applications</td>\n",
       "      <td>Energy-saving Technologies and Research I Usin...</td>\n",
       "      <td>6</td>\n",
       "      <td>0</td>\n",
       "      <td>5</td>\n",
       "      <td>Energy-saving Technologies and Research I Usin...</td>\n",
       "      <td>[Surface-active Substance, Residual Stress, El...</td>\n",
       "      <td>In article he results of researches in differe...</td>\n",
       "      <td>{'Introduction': 'In the conditions of market ...</td>\n",
       "    </tr>\n",
       "    <tr>\n",
       "      <th>662</th>\n",
       "      <td>Neural Networks and Applications</td>\n",
       "      <td>Identification of Compliant Contact Force Para...</td>\n",
       "      <td>7</td>\n",
       "      <td>0</td>\n",
       "      <td>14</td>\n",
       "      <td>Identification of Compliant Contact Force Para...</td>\n",
       "      <td>[Compliant Contact Force Model, Multibody Syst...</td>\n",
       "      <td>In this paper, a new approach for identificati...</td>\n",
       "      <td>{'Introduction': 'The motion of bodies in mult...</td>\n",
       "    </tr>\n",
       "    <tr>\n",
       "      <th>663</th>\n",
       "      <td>Neural Networks and Applications</td>\n",
       "      <td>Improving of Procedures for Preparing of Train...</td>\n",
       "      <td>4</td>\n",
       "      <td>10</td>\n",
       "      <td>2</td>\n",
       "      <td>Improving of Procedures for Preparing of Train...</td>\n",
       "      <td>[Neuron, Normalization, Ordinal Variable, Neur...</td>\n",
       "      <td>In the article procedure of rough-down of info...</td>\n",
       "      <td>{'Introduction': 'Usually components of input ...</td>\n",
       "    </tr>\n",
       "    <tr>\n",
       "      <th>664</th>\n",
       "      <td>Neural Networks and Applications</td>\n",
       "      <td>Location Selection of Logistics Center in e-Co...</td>\n",
       "      <td>9</td>\n",
       "      <td>9</td>\n",
       "      <td>9</td>\n",
       "      <td>Location Selection of Logistics Center in e-Co...</td>\n",
       "      <td>[Logistics Center Location, Cluster Analysis, ...</td>\n",
       "      <td>The site selection of logistics center is a ve...</td>\n",
       "      <td>{'Introduction': 'The location of a logistics ...</td>\n",
       "    </tr>\n",
       "    <tr>\n",
       "      <th>665</th>\n",
       "      <td>Neural Networks and Applications</td>\n",
       "      <td>Medical Images Classification and Diagnostics ...</td>\n",
       "      <td>6</td>\n",
       "      <td>10</td>\n",
       "      <td>6</td>\n",
       "      <td>Medical Images Classification and Diagnostics ...</td>\n",
       "      <td>[Medical Images Classification, Medical Diagno...</td>\n",
       "      <td>The problem of medical images of cervix epithe...</td>\n",
       "      <td>{'Introduction': 'An important application sph...</td>\n",
       "    </tr>\n",
       "    <tr>\n",
       "      <th>666</th>\n",
       "      <td>Neural Networks and Applications</td>\n",
       "      <td>Modeling and Optimization of Carbon Steel AISI...</td>\n",
       "      <td>7</td>\n",
       "      <td>0</td>\n",
       "      <td>0</td>\n",
       "      <td>error</td>\n",
       "      <td>[]</td>\n",
       "      <td></td>\n",
       "      <td></td>\n",
       "    </tr>\n",
       "    <tr>\n",
       "      <th>667</th>\n",
       "      <td>Neural Networks and Applications</td>\n",
       "      <td>Neural Network Study of the Effect of Corona D...</td>\n",
       "      <td>4</td>\n",
       "      <td>0</td>\n",
       "      <td>8</td>\n",
       "      <td>Neural Network Study of the Effect of Corona D...</td>\n",
       "      <td>[Ion Implantation, Corona Discharge, Neural Ne...</td>\n",
       "      <td>We suggest a method of surface saturation in t...</td>\n",
       "      <td>{'Introduction': 'Modification of the surface ...</td>\n",
       "    </tr>\n",
       "    <tr>\n",
       "      <th>668</th>\n",
       "      <td>Neural Networks and Applications</td>\n",
       "      <td>Off-Line Handwritten Character Recognition Sys...</td>\n",
       "      <td>7</td>\n",
       "      <td>7</td>\n",
       "      <td>12</td>\n",
       "      <td>Off-Line Handwritten Character Recognition Sys...</td>\n",
       "      <td>[Handwritten Character Recognition, Support Ve...</td>\n",
       "      <td>Selection of classifiers and feature extractio...</td>\n",
       "      <td>{'Introduction': 'Pattern recognition has been...</td>\n",
       "    </tr>\n",
       "    <tr>\n",
       "      <th>669</th>\n",
       "      <td>Neural Networks and Applications</td>\n",
       "      <td>Optimizing a Sensor to Detect Ammonium Nitrate...</td>\n",
       "      <td>6</td>\n",
       "      <td>0</td>\n",
       "      <td>7</td>\n",
       "      <td>Optimizing a Sensor to Detect Ammonium Nitrate...</td>\n",
       "      <td>[IED Detection, MQ137 Sensor, Neural Networks,...</td>\n",
       "      <td>Ammonium nitrate based explosives are a choice...</td>\n",
       "      <td>{'Introduction': 'In Africa and Nigeria, parti...</td>\n",
       "    </tr>\n",
       "    <tr>\n",
       "      <th>670</th>\n",
       "      <td>Neural Networks and Applications</td>\n",
       "      <td>Overview of the Three-dimensional Convolutiona...</td>\n",
       "      <td>7</td>\n",
       "      <td>4</td>\n",
       "      <td>3</td>\n",
       "      <td>Overview of the Three-dimensional Convolutiona...</td>\n",
       "      <td>[Three-dimensional Convolutional Neural Networ...</td>\n",
       "      <td>Medical computer-aided diagnosis systems are e...</td>\n",
       "      <td>{'Introduction': 'Lately, computer vision algo...</td>\n",
       "    </tr>\n",
       "    <tr>\n",
       "      <th>671</th>\n",
       "      <td>Neural Networks and Applications</td>\n",
       "      <td>Performance Analysis of Cellular Radio System ...</td>\n",
       "      <td>9</td>\n",
       "      <td>5</td>\n",
       "      <td>30</td>\n",
       "      <td>Performance Analysis of Cellular Radio System ...</td>\n",
       "      <td>[Artificial Neural Networks, Cellular Radio Sy...</td>\n",
       "      <td>In this paper, we exploit one of the fastest g...</td>\n",
       "      <td>{'Introduction': 'Among the various paradigmat...</td>\n",
       "    </tr>\n",
       "    <tr>\n",
       "      <th>672</th>\n",
       "      <td>Neural Networks and Applications</td>\n",
       "      <td>Proposal of Chat Based Automated System for On...</td>\n",
       "      <td>4</td>\n",
       "      <td>0</td>\n",
       "      <td>5</td>\n",
       "      <td>Proposal of Chat Based Automated System for On...</td>\n",
       "      <td>[Chatbots, Artificial Intelligence, Ecommerce,...</td>\n",
       "      <td>Chatbots have the potential to save any indivi...</td>\n",
       "      <td>{'Introduction': 'It's a rare moment when it b...</td>\n",
       "    </tr>\n",
       "    <tr>\n",
       "      <th>673</th>\n",
       "      <td>Neural Networks and Applications</td>\n",
       "      <td>Random Walk-Based Semantic Annotation for On-d...</td>\n",
       "      <td>8</td>\n",
       "      <td>10</td>\n",
       "      <td>9</td>\n",
       "      <td>Random Walk-Based Semantic Annotation for On-d...</td>\n",
       "      <td>[TF-IDF, Random Walk, Semantic Annotation]</td>\n",
       "      <td>Nowadays, the scale of real network is increas...</td>\n",
       "      <td>{'Introduction': 'Affected by the digitalizati...</td>\n",
       "    </tr>\n",
       "    <tr>\n",
       "      <th>674</th>\n",
       "      <td>Neural Networks and Applications</td>\n",
       "      <td>Research the Corporate Culture of Students Usi...</td>\n",
       "      <td>5</td>\n",
       "      <td>0</td>\n",
       "      <td>2</td>\n",
       "      <td>Research the Corporate Culture of Students Usi...</td>\n",
       "      <td>[Neural Network, Management, Educational Techn...</td>\n",
       "      <td>The article contains the new materials reflect...</td>\n",
       "      <td>{'Introduction': 'Globalization is the main tr...</td>\n",
       "    </tr>\n",
       "    <tr>\n",
       "      <th>675</th>\n",
       "      <td>Neural Networks and Applications</td>\n",
       "      <td>Robust Minimal Spanning Tree Using Intuitionis...</td>\n",
       "      <td>11</td>\n",
       "      <td>28</td>\n",
       "      <td>8</td>\n",
       "      <td>Robust Minimal Spanning Tree Using Intuitionis...</td>\n",
       "      <td>[Breast Cancer, Mammograms, Intuitionistic Fuz...</td>\n",
       "      <td>Breast cancer is the most common cause of deat...</td>\n",
       "      <td>{'Introduction': 'Breast cancer is characteriz...</td>\n",
       "    </tr>\n",
       "    <tr>\n",
       "      <th>676</th>\n",
       "      <td>Neural Networks and Applications</td>\n",
       "      <td>Segmentation and Measurement of Medical Image ...</td>\n",
       "      <td>9</td>\n",
       "      <td>4</td>\n",
       "      <td>9</td>\n",
       "      <td>Segmentation and Measurement of Medical Image ...</td>\n",
       "      <td>[Image Segmentation, K-means Clustering, Parti...</td>\n",
       "      <td>In this paper we have segmented an image by us...</td>\n",
       "      <td>{'Introduction': 'Image segmentation is a very...</td>\n",
       "    </tr>\n",
       "    <tr>\n",
       "      <th>677</th>\n",
       "      <td>Neural Networks and Applications</td>\n",
       "      <td>Study and Prediction of Landslide in Uttarkash...</td>\n",
       "      <td>12</td>\n",
       "      <td>1</td>\n",
       "      <td>21</td>\n",
       "      <td>Study and Prediction of Landslide in Uttarkash...</td>\n",
       "      <td>[India, Uttarkashi, Landslide Susceptibility, ...</td>\n",
       "      <td>Landslide is defined as a slow to rapid downwa...</td>\n",
       "      <td>{'Introduction': 'A frequently used definition...</td>\n",
       "    </tr>\n",
       "    <tr>\n",
       "      <th>678</th>\n",
       "      <td>Neural Networks and Applications</td>\n",
       "      <td>Study of the Nature and Structure of Corporate...</td>\n",
       "      <td>12</td>\n",
       "      <td>1</td>\n",
       "      <td>5</td>\n",
       "      <td>Study of the Nature and Structure of Corporate...</td>\n",
       "      <td>[Neural Network Models, Management, Educationa...</td>\n",
       "      <td>The article contains the new materials reflect...</td>\n",
       "      <td>{'Introduction': 'Corporative culture as one o...</td>\n",
       "    </tr>\n",
       "    <tr>\n",
       "      <th>679</th>\n",
       "      <td>Neural Networks and Applications</td>\n",
       "      <td>Urdu Nastaleeq Nib Calligraphy Pattern Recogni...</td>\n",
       "      <td>6</td>\n",
       "      <td>0</td>\n",
       "      <td>9</td>\n",
       "      <td>Urdu Nastaleeq Nib Calligraphy Pattern Recogni...</td>\n",
       "      <td>[Nib Calligraphy, Optical Character Recognitio...</td>\n",
       "      <td>Nib calligraphy pattern recognition is the way...</td>\n",
       "      <td>{'Introduction': 'The process of converting ha...</td>\n",
       "    </tr>\n",
       "  </tbody>\n",
       "</table>\n",
       "<p>680 rows × 9 columns</p>\n",
       "</div>"
      ],
      "text/plain": [
       "                             category  \\\n",
       "0             Artificial Intelligence   \n",
       "1             Artificial Intelligence   \n",
       "2             Artificial Intelligence   \n",
       "3             Artificial Intelligence   \n",
       "4             Artificial Intelligence   \n",
       "5             Artificial Intelligence   \n",
       "6             Artificial Intelligence   \n",
       "7             Artificial Intelligence   \n",
       "8             Artificial Intelligence   \n",
       "9             Artificial Intelligence   \n",
       "10            Artificial Intelligence   \n",
       "11            Artificial Intelligence   \n",
       "12            Artificial Intelligence   \n",
       "13            Artificial Intelligence   \n",
       "14            Artificial Intelligence   \n",
       "15            Artificial Intelligence   \n",
       "16            Artificial Intelligence   \n",
       "17            Artificial Intelligence   \n",
       "18            Artificial Intelligence   \n",
       "19            Artificial Intelligence   \n",
       "20            Artificial Intelligence   \n",
       "21    Computer Science and Technology   \n",
       "22    Computer Science and Technology   \n",
       "23    Computer Science and Technology   \n",
       "24    Computer Science and Technology   \n",
       "25    Computer Science and Technology   \n",
       "26    Computer Science and Technology   \n",
       "27    Computer Science and Technology   \n",
       "28    Computer Science and Technology   \n",
       "29    Computer Science and Technology   \n",
       "..                                ...   \n",
       "650  Neural Networks and Applications   \n",
       "651  Neural Networks and Applications   \n",
       "652  Neural Networks and Applications   \n",
       "653  Neural Networks and Applications   \n",
       "654  Neural Networks and Applications   \n",
       "655  Neural Networks and Applications   \n",
       "656  Neural Networks and Applications   \n",
       "657  Neural Networks and Applications   \n",
       "658  Neural Networks and Applications   \n",
       "659  Neural Networks and Applications   \n",
       "660  Neural Networks and Applications   \n",
       "661  Neural Networks and Applications   \n",
       "662  Neural Networks and Applications   \n",
       "663  Neural Networks and Applications   \n",
       "664  Neural Networks and Applications   \n",
       "665  Neural Networks and Applications   \n",
       "666  Neural Networks and Applications   \n",
       "667  Neural Networks and Applications   \n",
       "668  Neural Networks and Applications   \n",
       "669  Neural Networks and Applications   \n",
       "670  Neural Networks and Applications   \n",
       "671  Neural Networks and Applications   \n",
       "672  Neural Networks and Applications   \n",
       "673  Neural Networks and Applications   \n",
       "674  Neural Networks and Applications   \n",
       "675  Neural Networks and Applications   \n",
       "676  Neural Networks and Applications   \n",
       "677  Neural Networks and Applications   \n",
       "678  Neural Networks and Applications   \n",
       "679  Neural Networks and Applications   \n",
       "\n",
       "                                                  name  num_pages  \\\n",
       "0    A Comprehensive Review on Heart Disease Predic...         10   \n",
       "1    A Model for Clustering Social Media Data for E...          4   \n",
       "2    A Neural Network Scheme for Monetary Policy Ra...         11   \n",
       "3    A Neuro-Fuzzy Case Based Reasoning Framework f...          8   \n",
       "4    An Intelligent System for Traffic Control in S...          8   \n",
       "5    Architecture Trends of Adaptive Educational Hy...         14   \n",
       "6    Autonomous Systems and Reliability Assessment ...          6   \n",
       "7    Defect Identification and Maturity Detection o...         10   \n",
       "8    Evaluation of Spatial Filtering Techniques in ...          6   \n",
       "9    Implementation of Defense in Depth Strategy to...          6   \n",
       "10   Model of Self-organizing Knowledge Representat...         19   \n",
       "11   Predicting the Seroprevalence of HBV, HCV, and...         12   \n",
       "12   Real-Time Distracted Drivers Detection Using D...          8   \n",
       "13   Reducing Human Effort of the Optical Tracking ...          6   \n",
       "14   Research on the Framework of Smart City Operat...          6   \n",
       "15   Robust Fuzzy Control for 2-DOF Manipulator Sys...          6   \n",
       "16   Spanish-Turkish Low-Resource Machine Translati...          8   \n",
       "17   The Effectiveness of Borehole Heat Exchanger D...          8   \n",
       "18   The Most General Intelligent Architectures of ...          6   \n",
       "19   The Taxonomy of Living Organisms Using Self-or...         12   \n",
       "20   Traffic Light Controller Module Based on Parti...          9   \n",
       "21   A Framework for Intrusion Detection Based on W...          8   \n",
       "22   A Kind of Frequency Subspace Identification Me...          5   \n",
       "23   A New Powerful Scheme Based on Self Invertible...          5   \n",
       "24   A Review of Digital Libraries and Their Impact...          8   \n",
       "25   Adaptive Neuro-Fuzzy Inference System (ANFIS) ...         11   \n",
       "26   An Efficient Algorithm for Workflow Scheduling...          7   \n",
       "27   Blockchain in the Implementation of VAT Collec...          9   \n",
       "28   Blockchain Study and Analysis with a View to O...         11   \n",
       "29   Blowfish Implementation on SoloEncrypt Securit...          6   \n",
       "..                                                 ...        ...   \n",
       "650  Application of Group Method of Data Handling T...          7   \n",
       "651  Architecture of the Extended-Input Binary Neur...          7   \n",
       "652  Artificial Immune System Based Local Search fo...          7   \n",
       "653  Artificial Neural Networks Analysis for Estima...          5   \n",
       "654  Asymptotic Behaviour of Gradient Learning Algo...         10   \n",
       "655  BPSO Applied to TNEP Considering Adequacy Crit...          7   \n",
       "656  Content-Based Image Retrieval Based on Texture...          5   \n",
       "657  Convergence of Online Gradient Method for Pi-s...          5   \n",
       "658  Data Mining Application for Finding Patterns S...          8   \n",
       "659  Determining the Optimum Maturity of Maize Usin...          9   \n",
       "660  Each Role of Short-term and Long-term Memory i...          6   \n",
       "661  Energy-saving Technologies and Research I Usin...          6   \n",
       "662  Identification of Compliant Contact Force Para...          7   \n",
       "663  Improving of Procedures for Preparing of Train...          4   \n",
       "664  Location Selection of Logistics Center in e-Co...          9   \n",
       "665  Medical Images Classification and Diagnostics ...          6   \n",
       "666  Modeling and Optimization of Carbon Steel AISI...          7   \n",
       "667  Neural Network Study of the Effect of Corona D...          4   \n",
       "668  Off-Line Handwritten Character Recognition Sys...          7   \n",
       "669  Optimizing a Sensor to Detect Ammonium Nitrate...          6   \n",
       "670  Overview of the Three-dimensional Convolutiona...          7   \n",
       "671  Performance Analysis of Cellular Radio System ...          9   \n",
       "672  Proposal of Chat Based Automated System for On...          4   \n",
       "673  Random Walk-Based Semantic Annotation for On-d...          8   \n",
       "674  Research the Corporate Culture of Students Usi...          5   \n",
       "675  Robust Minimal Spanning Tree Using Intuitionis...         11   \n",
       "676  Segmentation and Measurement of Medical Image ...          9   \n",
       "677  Study and Prediction of Landslide in Uttarkash...         12   \n",
       "678  Study of the Nature and Structure of Corporate...         12   \n",
       "679  Urdu Nastaleeq Nib Calligraphy Pattern Recogni...          6   \n",
       "\n",
       "     num_formulas  num_figures  \\\n",
       "0               0            0   \n",
       "1               0            4   \n",
       "2              13            9   \n",
       "3               2            8   \n",
       "4               5            9   \n",
       "5               0           12   \n",
       "6               0            2   \n",
       "7               0           15   \n",
       "8               8           16   \n",
       "9               0            5   \n",
       "10              0            4   \n",
       "11              0            8   \n",
       "12              1            5   \n",
       "13              0            9   \n",
       "14              0            8   \n",
       "15             11            7   \n",
       "16              9            1   \n",
       "17              2           17   \n",
       "18              8            6   \n",
       "19              1            7   \n",
       "20              2           11   \n",
       "21              2            6   \n",
       "22              5            3   \n",
       "23              1            2   \n",
       "24              0            0   \n",
       "25              0            0   \n",
       "26             13            9   \n",
       "27              0           10   \n",
       "28              0           13   \n",
       "29              0            7   \n",
       "..            ...          ...   \n",
       "650            11            8   \n",
       "651             7            3   \n",
       "652             2           13   \n",
       "653             0            3   \n",
       "654            53           10   \n",
       "655             6           15   \n",
       "656             3            6   \n",
       "657            26            4   \n",
       "658             0            1   \n",
       "659             0            8   \n",
       "660             1            7   \n",
       "661             0            5   \n",
       "662             0           14   \n",
       "663            10            2   \n",
       "664             9            9   \n",
       "665            10            6   \n",
       "666             0            0   \n",
       "667             0            8   \n",
       "668             7           12   \n",
       "669             0            7   \n",
       "670             4            3   \n",
       "671             5           30   \n",
       "672             0            5   \n",
       "673            10            9   \n",
       "674             0            2   \n",
       "675            28            8   \n",
       "676             4            9   \n",
       "677             1           21   \n",
       "678             1            5   \n",
       "679             0            9   \n",
       "\n",
       "                                                 title  \\\n",
       "0    A Comprehensive Review on Heart Disease Predic...   \n",
       "1    A Model for Clustering Social Media Data for E...   \n",
       "2    A Neural Network Scheme for Monetary Policy Ra...   \n",
       "3    A Neuro-Fuzzy Case Based Reasoning Framework f...   \n",
       "4    An Intelligent System for Traffic Control in S...   \n",
       "5    Architecture Trends of Adaptive Educational Hy...   \n",
       "6    Autonomous Systems and Reliability Assessment:...   \n",
       "7    Defect Identification and Maturity Detection o...   \n",
       "8    Evaluation of Spatial Filtering Techniques in ...   \n",
       "9    Implementation of Defense in Depth Strategy to...   \n",
       "10   Model of Self-organizing Knowledge Representat...   \n",
       "11   Predicting the Seroprevalence of HBV, HCV, and...   \n",
       "12   Real-Time Distracted Drivers Detection Using D...   \n",
       "13   Reducing Human Effort of the Optical Tracking ...   \n",
       "14   Research on the Framework of Smart City Operat...   \n",
       "15   Robust Fuzzy Control for 2-DOF Manipulator System   \n",
       "16   Spanish-Turkish Low-Resource Machine Translati...   \n",
       "17   The Effectiveness of Borehole Heat Exchanger D...   \n",
       "18   The Most General Intelligent Architectures of ...   \n",
       "19   The Taxonomy of Living Organisms Using Self-or...   \n",
       "20   Traffic Light Controller Module Based on Parti...   \n",
       "21   A Framework for Intrusion Detection Based on W...   \n",
       "22   A Kind of Frequency Subspace Identification Me...   \n",
       "23   A New Powerful Scheme Based on Self Invertible...   \n",
       "24   A Review of Digital Libraries and Their Impact...   \n",
       "25                                               error   \n",
       "26   An Efficient Algorithm for Workflow Scheduling...   \n",
       "27   Blockchain in the Implementation of VAT Collec...   \n",
       "28   Blockchain Study and Analysis with a View to O...   \n",
       "29   Blowfish Implementation on SoloEncrypt Securit...   \n",
       "..                                                 ...   \n",
       "650  Application of Group Method of Data Handling T...   \n",
       "651  Architecture of the Extended-Input Binary Neur...   \n",
       "652  Artificial Immune System Based Local Search fo...   \n",
       "653  Artificial Neural Networks Analysis for Estima...   \n",
       "654  Asymptotic Behaviour of Gradient Learning Algo...   \n",
       "655  BPSO Applied to TNEP Considering Adequacy Crit...   \n",
       "656  Content-Based Image Retrieval Based on Texture...   \n",
       "657  Convergence of Online Gradient Method for Pi-s...   \n",
       "658  Data Mining Application for Finding Patterns: ...   \n",
       "659  Determining the Optimum Maturity of Maize Usin...   \n",
       "660  Each Role of Short-term and Long-term Memory i...   \n",
       "661  Energy-saving Technologies and Research I Usin...   \n",
       "662  Identification of Compliant Contact Force Para...   \n",
       "663  Improving of Procedures for Preparing of Train...   \n",
       "664  Location Selection of Logistics Center in e-Co...   \n",
       "665  Medical Images Classification and Diagnostics ...   \n",
       "666                                              error   \n",
       "667  Neural Network Study of the Effect of Corona D...   \n",
       "668  Off-Line Handwritten Character Recognition Sys...   \n",
       "669  Optimizing a Sensor to Detect Ammonium Nitrate...   \n",
       "670  Overview of the Three-dimensional Convolutiona...   \n",
       "671  Performance Analysis of Cellular Radio System ...   \n",
       "672  Proposal of Chat Based Automated System for On...   \n",
       "673  Random Walk-Based Semantic Annotation for On-d...   \n",
       "674  Research the Corporate Culture of Students Usi...   \n",
       "675  Robust Minimal Spanning Tree Using Intuitionis...   \n",
       "676  Segmentation and Measurement of Medical Image ...   \n",
       "677  Study and Prediction of Landslide in Uttarkash...   \n",
       "678  Study of the Nature and Structure of Corporate...   \n",
       "679  Urdu Nastaleeq Nib Calligraphy Pattern Recogni...   \n",
       "\n",
       "                                              keywords  \\\n",
       "0    [Data Mining, Machine Learning, Heart Disease,...   \n",
       "1    [Social Media, Twitter Application Programming...   \n",
       "2    [Monetary Policy, Artificial Neural Network, T...   \n",
       "3    [Intelligence, Hybrid Model, Neuro-fuzzy CBR, ...   \n",
       "4    [Smart Cities, Traffic Congestion, Intelligent...   \n",
       "5    [Adaptive Educational Hypermedia Systems, Arch...   \n",
       "6    [Autonomous, Complex Systems, Components, Reli...   \n",
       "7    [Defect Identification, Agriculture Image Proc...   \n",
       "8    [Fundus Images, Spatial Filtering, MSE, PSNR, ...   \n",
       "9    [ICS, SCADA, Cybersecurity, IDS, IPS, Defense ...   \n",
       "10   [Knowledge Representation Model, Knowledge Sel...   \n",
       "11   [Data Mining, Blood Bank, HIV, HBC, HVC, CRISP...   \n",
       "12   [Distracted Driver, CNN, Deep Learning, Activa...   \n",
       "13   [Raspberry Pi, Guided Missile, Hardware-in-The...   \n",
       "14   [Information and Communication Technologies (I...   \n",
       "15   [Fuzzy Control, Dynamic Model, Robotic, Two DO...   \n",
       "16   [Computational Linguistics, Natural Language P...   \n",
       "17   [Heat Transfer Rate, Different Borehole Depths...   \n",
       "18   [Hybrid Architectures, Intelligent System, Coo...   \n",
       "19   [Self-organizing Map, Taxonomy, Unsupervised N...   \n",
       "20   [Transportation System, Traffic Light Controll...   \n",
       "21   [Information System Security, Intrusion Detect...   \n",
       "22   [Subspace Identification, Time-Delay System, P...   \n",
       "23   [Minimum Distance, Minimum Weight, BCH Codes, ...   \n",
       "24   [Digital Library, Recommender Systems, Electro...   \n",
       "25                                                  []   \n",
       "26   [Workflow Scheduling, Opposition-Based Differe...   \n",
       "27   [Secure, Optimize, VAT Collection, Blockchain,...   \n",
       "28   [Land Register, Land Book, Framework, Blockcha...   \n",
       "29   [Blowfish, SoloEncrypt, Data Security, Cloud S...   \n",
       "..                                                 ...   \n",
       "650  [Significant Wave Height, Prediction, Group Me...   \n",
       "651  [Architecture, Modular, Pattern Association, M...   \n",
       "652  [Artificial Immune System, Local Search, Multi...   \n",
       "653  [Bone Mineral Density (BMD), Dual-energy X-ray...   \n",
       "654  [Neural Network, Nonlinear Model, Gradient Lea...   \n",
       "655                  [BPSO, Adequacy Criterion, STNEP]   \n",
       "656  [CBIR, Feature, Tamura Texture Feature, Textur...   \n",
       "657  [Convergence, Pi-sigma Network, Online Gradien...   \n",
       "658  [Neural Network, Decision Trees, Rule Inductio...   \n",
       "659  [Artificial Neural Networks, Computational Int...   \n",
       "660  [Short-term Memory, Long-term Memory, Serial P...   \n",
       "661  [Surface-active Substance, Residual Stress, El...   \n",
       "662  [Compliant Contact Force Model, Multibody Syst...   \n",
       "663  [Neuron, Normalization, Ordinal Variable, Neur...   \n",
       "664  [Logistics Center Location, Cluster Analysis, ...   \n",
       "665  [Medical Images Classification, Medical Diagno...   \n",
       "666                                                 []   \n",
       "667  [Ion Implantation, Corona Discharge, Neural Ne...   \n",
       "668  [Handwritten Character Recognition, Support Ve...   \n",
       "669  [IED Detection, MQ137 Sensor, Neural Networks,...   \n",
       "670  [Three-dimensional Convolutional Neural Networ...   \n",
       "671  [Artificial Neural Networks, Cellular Radio Sy...   \n",
       "672  [Chatbots, Artificial Intelligence, Ecommerce,...   \n",
       "673         [TF-IDF, Random Walk, Semantic Annotation]   \n",
       "674  [Neural Network, Management, Educational Techn...   \n",
       "675  [Breast Cancer, Mammograms, Intuitionistic Fuz...   \n",
       "676  [Image Segmentation, K-means Clustering, Parti...   \n",
       "677  [India, Uttarkashi, Landslide Susceptibility, ...   \n",
       "678  [Neural Network Models, Management, Educationa...   \n",
       "679  [Nib Calligraphy, Optical Character Recognitio...   \n",
       "\n",
       "                                              abstract  \\\n",
       "0    Heart disease is one of the major causes of li...   \n",
       "1    Through Social media, people are able to write...   \n",
       "2    This research work is an exploratory study tha...   \n",
       "3    Lassa fever is an acute viral haemorrhagic fev...   \n",
       "4    Current traffic light systems use a fixed time...   \n",
       "5    The aim of this article is to present the gene...   \n",
       "6    The advancement of technology has heralded nov...   \n",
       "7    The image processing and computer vision syste...   \n",
       "8    The denoising of the fundus images is an essen...   \n",
       "9    The goal of this communication is to examine t...   \n",
       "10   The purpose of the paper is development of a c...   \n",
       "11   Recent advancements in communication technolog...   \n",
       "12   In the last few years, the number of road acci...   \n",
       "13   Human role reduction in the firing process in ...   \n",
       "14   With the deepening of Chinses national strateg...   \n",
       "15   Robot manipulators have become increasingly im...   \n",
       "16   The quality of data-driven Machine Translation...   \n",
       "17   Excess solar thermal energy is available, whil...   \n",
       "18   Hybrid systems of the fuzzy logic and neural n...   \n",
       "19   The Self Organizing Map (SOM) is an unsupervis...   \n",
       "20   A traffic light control module base on PSO alg...   \n",
       "21   Information systems handle large amount of dat...   \n",
       "22   In this paper, a problem in engineering area w...   \n",
       "23   In this paper, we present the powerful scheme ...   \n",
       "24   Digital libraries, recommender systems and inf...   \n",
       "25                                                       \n",
       "26   The Cloud is a computing platform that provide...   \n",
       "27   Tax fraud is the non-payment or the partial pa...   \n",
       "28   Land, according to most governments, is an imp...   \n",
       "29   Smartphones' data security has become increasi...   \n",
       "..                                                 ...   \n",
       "650  The estimation of wave parameters is of great ...   \n",
       "651  The proposed architecture of a binary artifici...   \n",
       "652  In this paper, an artificial intelligent appro...   \n",
       "653  An extensive amount of information is currentl...   \n",
       "654  This paper deals with studying the asymptotica...   \n",
       "655  Different methods have been proposed to solve ...   \n",
       "656  As the development of data storage technology ...   \n",
       "657  This paper investigates an online gradient met...   \n",
       "658  Data Mining is now a common method for mining ...   \n",
       "659  In recent times, the phenomenal increase in th...   \n",
       "660  Based on known functions of neuroscience the n...   \n",
       "661  In article he results of researches in differe...   \n",
       "662  In this paper, a new approach for identificati...   \n",
       "663  In the article procedure of rough-down of info...   \n",
       "664  The site selection of logistics center is a ve...   \n",
       "665  The problem of medical images of cervix epithe...   \n",
       "666                                                      \n",
       "667  We suggest a method of surface saturation in t...   \n",
       "668  Selection of classifiers and feature extractio...   \n",
       "669  Ammonium nitrate based explosives are a choice...   \n",
       "670  Medical computer-aided diagnosis systems are e...   \n",
       "671  In this paper, we exploit one of the fastest g...   \n",
       "672  Chatbots have the potential to save any indivi...   \n",
       "673  Nowadays, the scale of real network is increas...   \n",
       "674  The article contains the new materials reflect...   \n",
       "675  Breast cancer is the most common cause of deat...   \n",
       "676  In this paper we have segmented an image by us...   \n",
       "677  Landslide is defined as a slow to rapid downwa...   \n",
       "678  The article contains the new materials reflect...   \n",
       "679  Nib calligraphy pattern recognition is the way...   \n",
       "\n",
       "                                              sections  \n",
       "0    {'Introduction': 'The heart is one of the most...  \n",
       "1    {'Introduction': 'Clustering is a descriptive ...  \n",
       "2    {'Introduction': 'Monetary policy has been def...  \n",
       "3    {'Introduction': 'Expert Systems (ES) uses hum...  \n",
       "4    {'Introduction': '', 'Background': 'Traffic co...  \n",
       "5    {'Introduction': 'Adaptive Hypermedia Educatio...  \n",
       "6    {'Introduction': 'The advancement in technolog...  \n",
       "7    {'Introduction': 'Mango is one of the world's ...  \n",
       "8    {'Introduction': 'Early diagnosis is crucial i...  \n",
       "9    {'Introduction': 'Industrial control systems (...  \n",
       "10   {'Introduction': 'The root issues of knowledge...  \n",
       "11   {'Introduction': '', 'Background': 'These days...  \n",
       "12   {'Introduction': 'According to the World Healt...  \n",
       "13   {'Introduction': 'In the second generation of ...  \n",
       "14   {'Introduction': 'At present, featured with cl...  \n",
       "15   {'Introduction': 'In recent years, control eng...  \n",
       "16   {'Introduction': 'Learning-based translation w...  \n",
       "17   {'Introduction': 'One of the most current topi...  \n",
       "18   {'Introduction': 'The capability of computers,...  \n",
       "19   {'Introduction': 'Taxonomy is the biological a...  \n",
       "20   {'Introduction': 'Nowadays, vehicular travel i...  \n",
       "21   {'Introduction': 'Nowadays, enterprises use di...  \n",
       "22   {'Introduction': 'When it comes to the problem...  \n",
       "23   {'Introduction': 'In telecommunication and sto...  \n",
       "24   {'Introduction': 'Digital library, as defined ...  \n",
       "25                                                      \n",
       "26   {'Introduction': 'The Cloud is a computing pla...  \n",
       "27   {'Introduction': 'Value Added Tax (VAT) is an ...  \n",
       "28   {'Introduction': 'Since the creation of the na...  \n",
       "29   {'Introduction': 'Smartphone is a phone that i...  \n",
       "..                                                 ...  \n",
       "650  {'Introduction': 'Waves are important factors ...  \n",
       "651  {'Introduction': 'In designing the architectur...  \n",
       "652  {'Introduction': 'Computing and engineering ha...  \n",
       "653  {'Introduction': 'Bone is a living tissue that...  \n",
       "654  {'Introduction': 'Over the past decades, inter...  \n",
       "655  {'Introduction': 'The main goal of transmissio...  \n",
       "656  {'Introduction': 'Information technology incre...  \n",
       "657  {'Introduction': 'A novel higher order feedfor...  \n",
       "658  {'Introduction': 'Data mining involves the use...  \n",
       "659  {'Introduction': 'The climatic conditions acro...  \n",
       "660  {'Introduction': 'If you look back at the huma...  \n",
       "661  {'Introduction': 'In the conditions of market ...  \n",
       "662  {'Introduction': 'The motion of bodies in mult...  \n",
       "663  {'Introduction': 'Usually components of input ...  \n",
       "664  {'Introduction': 'The location of a logistics ...  \n",
       "665  {'Introduction': 'An important application sph...  \n",
       "666                                                     \n",
       "667  {'Introduction': 'Modification of the surface ...  \n",
       "668  {'Introduction': 'Pattern recognition has been...  \n",
       "669  {'Introduction': 'In Africa and Nigeria, parti...  \n",
       "670  {'Introduction': 'Lately, computer vision algo...  \n",
       "671  {'Introduction': 'Among the various paradigmat...  \n",
       "672  {'Introduction': 'It's a rare moment when it b...  \n",
       "673  {'Introduction': 'Affected by the digitalizati...  \n",
       "674  {'Introduction': 'Globalization is the main tr...  \n",
       "675  {'Introduction': 'Breast cancer is characteriz...  \n",
       "676  {'Introduction': 'Image segmentation is a very...  \n",
       "677  {'Introduction': 'A frequently used definition...  \n",
       "678  {'Introduction': 'Corporative culture as one o...  \n",
       "679  {'Introduction': 'The process of converting ha...  \n",
       "\n",
       "[680 rows x 9 columns]"
      ]
     },
     "execution_count": 8,
     "metadata": {},
     "output_type": "execute_result"
    }
   ],
   "source": [
    "dataset"
   ]
  },
  {
   "cell_type": "code",
   "execution_count": 9,
   "metadata": {},
   "outputs": [],
   "source": [
    "dataset = dataset[dataset.title != 'error']"
   ]
  },
  {
   "cell_type": "code",
   "execution_count": 11,
   "metadata": {},
   "outputs": [
    {
     "data": {
      "text/plain": [
       "(671, 9)"
      ]
     },
     "execution_count": 11,
     "metadata": {},
     "output_type": "execute_result"
    }
   ],
   "source": [
    "dataset.shape"
   ]
  },
  {
   "cell_type": "code",
   "execution_count": 12,
   "metadata": {},
   "outputs": [
    {
     "name": "stderr",
     "output_type": "stream",
     "text": [
      "671it [00:03, 199.69it/s]\n"
     ]
    }
   ],
   "source": [
    "num_sent_list = []\n",
    "\n",
    "for row in tqdm(dataset.iterrows()):\n",
    "    num_sent = len(sent_tokenize(row[1]['abstract']))\n",
    "    sections = list(row[1]['sections'].values())\n",
    "    for section in sections:\n",
    "        num_sent += len(sent_tokenize(section))\n",
    "    num_sent_list.append(num_sent)"
   ]
  },
  {
   "cell_type": "code",
   "execution_count": 13,
   "metadata": {},
   "outputs": [
    {
     "name": "stderr",
     "output_type": "stream",
     "text": [
      "SettingWithCopyWarning: \n",
      "A value is trying to be set on a copy of a slice from a DataFrame.\n",
      "Try using .loc[row_indexer,col_indexer] = value instead\n",
      "\n",
      "See the caveats in the documentation: http://pandas.pydata.org/pandas-docs/stable/indexing.html#indexing-view-versus-copy [ipykernel_launcher.py:1]\n"
     ]
    }
   ],
   "source": [
    "dataset['num_sentences'] = num_sent_list"
   ]
  },
  {
   "cell_type": "code",
   "execution_count": 14,
   "metadata": {},
   "outputs": [
    {
     "data": {
      "text/html": [
       "<div>\n",
       "<style scoped>\n",
       "    .dataframe tbody tr th:only-of-type {\n",
       "        vertical-align: middle;\n",
       "    }\n",
       "\n",
       "    .dataframe tbody tr th {\n",
       "        vertical-align: top;\n",
       "    }\n",
       "\n",
       "    .dataframe thead th {\n",
       "        text-align: right;\n",
       "    }\n",
       "</style>\n",
       "<table border=\"1\" class=\"dataframe\">\n",
       "  <thead>\n",
       "    <tr style=\"text-align: right;\">\n",
       "      <th></th>\n",
       "      <th>category</th>\n",
       "      <th>name</th>\n",
       "      <th>num_pages</th>\n",
       "      <th>num_formulas</th>\n",
       "      <th>num_figures</th>\n",
       "      <th>title</th>\n",
       "      <th>keywords</th>\n",
       "      <th>abstract</th>\n",
       "      <th>sections</th>\n",
       "      <th>num_sentences</th>\n",
       "    </tr>\n",
       "  </thead>\n",
       "  <tbody>\n",
       "    <tr>\n",
       "      <th>0</th>\n",
       "      <td>Artificial Intelligence</td>\n",
       "      <td>A Comprehensive Review on Heart Disease Predic...</td>\n",
       "      <td>10</td>\n",
       "      <td>0</td>\n",
       "      <td>0</td>\n",
       "      <td>A Comprehensive Review on Heart Disease Predic...</td>\n",
       "      <td>[Data Mining, Machine Learning, Heart Disease,...</td>\n",
       "      <td>Heart disease is one of the major causes of li...</td>\n",
       "      <td>{'Introduction': 'The heart is one of the most...</td>\n",
       "      <td>337</td>\n",
       "    </tr>\n",
       "    <tr>\n",
       "      <th>1</th>\n",
       "      <td>Artificial Intelligence</td>\n",
       "      <td>A Model for Clustering Social Media Data for E...</td>\n",
       "      <td>4</td>\n",
       "      <td>0</td>\n",
       "      <td>4</td>\n",
       "      <td>A Model for Clustering Social Media Data for E...</td>\n",
       "      <td>[Social Media, Twitter Application Programming...</td>\n",
       "      <td>Through Social media, people are able to write...</td>\n",
       "      <td>{'Introduction': 'Clustering is a descriptive ...</td>\n",
       "      <td>76</td>\n",
       "    </tr>\n",
       "    <tr>\n",
       "      <th>2</th>\n",
       "      <td>Artificial Intelligence</td>\n",
       "      <td>A Neural Network Scheme for Monetary Policy Ra...</td>\n",
       "      <td>11</td>\n",
       "      <td>13</td>\n",
       "      <td>9</td>\n",
       "      <td>A Neural Network Scheme for Monetary Policy Ra...</td>\n",
       "      <td>[Monetary Policy, Artificial Neural Network, T...</td>\n",
       "      <td>This research work is an exploratory study tha...</td>\n",
       "      <td>{'Introduction': 'Monetary policy has been def...</td>\n",
       "      <td>174</td>\n",
       "    </tr>\n",
       "    <tr>\n",
       "      <th>3</th>\n",
       "      <td>Artificial Intelligence</td>\n",
       "      <td>A Neuro-Fuzzy Case Based Reasoning Framework f...</td>\n",
       "      <td>8</td>\n",
       "      <td>2</td>\n",
       "      <td>8</td>\n",
       "      <td>A Neuro-Fuzzy Case Based Reasoning Framework f...</td>\n",
       "      <td>[Intelligence, Hybrid Model, Neuro-fuzzy CBR, ...</td>\n",
       "      <td>Lassa fever is an acute viral haemorrhagic fev...</td>\n",
       "      <td>{'Introduction': 'Expert Systems (ES) uses hum...</td>\n",
       "      <td>60</td>\n",
       "    </tr>\n",
       "    <tr>\n",
       "      <th>4</th>\n",
       "      <td>Artificial Intelligence</td>\n",
       "      <td>An Intelligent System for Traffic Control in S...</td>\n",
       "      <td>8</td>\n",
       "      <td>5</td>\n",
       "      <td>9</td>\n",
       "      <td>An Intelligent System for Traffic Control in S...</td>\n",
       "      <td>[Smart Cities, Traffic Congestion, Intelligent...</td>\n",
       "      <td>Current traffic light systems use a fixed time...</td>\n",
       "      <td>{'Introduction': '', 'Background': 'Traffic co...</td>\n",
       "      <td>99</td>\n",
       "    </tr>\n",
       "  </tbody>\n",
       "</table>\n",
       "</div>"
      ],
      "text/plain": [
       "                  category                                               name  \\\n",
       "0  Artificial Intelligence  A Comprehensive Review on Heart Disease Predic...   \n",
       "1  Artificial Intelligence  A Model for Clustering Social Media Data for E...   \n",
       "2  Artificial Intelligence  A Neural Network Scheme for Monetary Policy Ra...   \n",
       "3  Artificial Intelligence  A Neuro-Fuzzy Case Based Reasoning Framework f...   \n",
       "4  Artificial Intelligence  An Intelligent System for Traffic Control in S...   \n",
       "\n",
       "   num_pages  num_formulas  num_figures  \\\n",
       "0         10             0            0   \n",
       "1          4             0            4   \n",
       "2         11            13            9   \n",
       "3          8             2            8   \n",
       "4          8             5            9   \n",
       "\n",
       "                                               title  \\\n",
       "0  A Comprehensive Review on Heart Disease Predic...   \n",
       "1  A Model for Clustering Social Media Data for E...   \n",
       "2  A Neural Network Scheme for Monetary Policy Ra...   \n",
       "3  A Neuro-Fuzzy Case Based Reasoning Framework f...   \n",
       "4  An Intelligent System for Traffic Control in S...   \n",
       "\n",
       "                                            keywords  \\\n",
       "0  [Data Mining, Machine Learning, Heart Disease,...   \n",
       "1  [Social Media, Twitter Application Programming...   \n",
       "2  [Monetary Policy, Artificial Neural Network, T...   \n",
       "3  [Intelligence, Hybrid Model, Neuro-fuzzy CBR, ...   \n",
       "4  [Smart Cities, Traffic Congestion, Intelligent...   \n",
       "\n",
       "                                            abstract  \\\n",
       "0  Heart disease is one of the major causes of li...   \n",
       "1  Through Social media, people are able to write...   \n",
       "2  This research work is an exploratory study tha...   \n",
       "3  Lassa fever is an acute viral haemorrhagic fev...   \n",
       "4  Current traffic light systems use a fixed time...   \n",
       "\n",
       "                                            sections  num_sentences  \n",
       "0  {'Introduction': 'The heart is one of the most...            337  \n",
       "1  {'Introduction': 'Clustering is a descriptive ...             76  \n",
       "2  {'Introduction': 'Monetary policy has been def...            174  \n",
       "3  {'Introduction': 'Expert Systems (ES) uses hum...             60  \n",
       "4  {'Introduction': '', 'Background': 'Traffic co...             99  "
      ]
     },
     "execution_count": 14,
     "metadata": {},
     "output_type": "execute_result"
    }
   ],
   "source": [
    "dataset.head()"
   ]
  },
  {
   "cell_type": "code",
   "execution_count": 29,
   "metadata": {},
   "outputs": [
    {
     "data": {
      "image/png": "[encoded data removed]",
      "text/plain": [
       "<Figure size 432x288 with 1 Axes>"
      ]
     },
     "metadata": {
      "needs_background": "light"
     },
     "output_type": "display_data"
    }
   ],
   "source": [
    "plt.xlabel('Number of Pages')\n",
    "plt.ylabel('Number of Sentences')\n",
    "plt.scatter(dataset.num_pages, dataset.num_sentences, s = 10)\n",
    "#plt.savefig('page_vs_sentence.png')\n",
    "plt.title('(a)')\n",
    "plt.show()"
   ]
  },
  {
   "cell_type": "code",
   "execution_count": 26,
   "metadata": {},
   "outputs": [
    {
     "name": "stderr",
     "output_type": "stream",
     "text": [
      "SettingWithCopyWarning: \n",
      "A value is trying to be set on a copy of a slice from a DataFrame.\n",
      "Try using .loc[row_indexer,col_indexer] = value instead\n",
      "\n",
      "See the caveats in the documentation: http://pandas.pydata.org/pandas-docs/stable/indexing.html#indexing-view-versus-copy [ipykernel_launcher.py:2]\n"
     ]
    }
   ],
   "source": [
    "sent_by_page = dataset.num_sentences.values / (dataset.num_pages.values - 1)\n",
    "dataset['sent_by_page'] = sent_by_page"
   ]
  },
  {
   "cell_type": "code",
   "execution_count": 32,
   "metadata": {},
   "outputs": [
    {
     "data": {
      "text/plain": [
       "(array([ 20.,  69., 137., 142., 150.,  86.,  35.,  22.,   7.,   3.]),\n",
       " array([ 1.22727273,  6.07121212, 10.91515152, 15.75909091, 20.6030303 ,\n",
       "        25.4469697 , 30.29090909, 35.13484848, 39.97878788, 44.82272727,\n",
       "        49.66666667]),\n",
       " <BarContainer object of 10 artists>)"
      ]
     },
     "execution_count": 32,
     "metadata": {},
     "output_type": "execute_result"
    },
    {
     "data": {
      "image/png": "[encoded data removed]",
      "text/plain": [
       "<Figure size 432x288 with 1 Axes>"
      ]
     },
     "metadata": {
      "needs_background": "light"
     },
     "output_type": "display_data"
    }
   ],
   "source": [
    "plt.hist(dataset['sent_by_page'])"
   ]
  },
  {
   "cell_type": "code",
   "execution_count": null,
   "metadata": {},
   "outputs": [],
   "source": []
  },
  {
   "cell_type": "code",
   "execution_count": 17,
   "metadata": {},
   "outputs": [
    {
     "data": {
      "text/plain": [
       "19.882930978122527"
      ]
     },
     "execution_count": 17,
     "metadata": {},
     "output_type": "execute_result"
    }
   ],
   "source": [
    "np.mean(sent_by_page)"
   ]
  },
  {
   "cell_type": "code",
   "execution_count": 18,
   "metadata": {},
   "outputs": [
    {
     "data": {
      "text/plain": [
       "19.571428571428573"
      ]
     },
     "execution_count": 18,
     "metadata": {},
     "output_type": "execute_result"
    }
   ],
   "source": [
    "np.median(sent_by_page)"
   ]
  },
  {
   "cell_type": "code",
   "execution_count": 19,
   "metadata": {},
   "outputs": [
    {
     "data": {
      "text/plain": [
       "8.192452107787217"
      ]
     },
     "execution_count": 19,
     "metadata": {},
     "output_type": "execute_result"
    }
   ],
   "source": [
    "np.std(sent_by_page)"
   ]
  },
  {
   "cell_type": "markdown",
   "metadata": {},
   "source": [
    "As per the empirical rule any absolute value of z-score above 3 is considered as an Outlier."
   ]
  },
  {
   "cell_type": "code",
   "execution_count": 20,
   "metadata": {},
   "outputs": [],
   "source": [
    "z_scores = stats.zscore(dataset[['num_formulas']])\n",
    "\n",
    "#abs_z_scores = np.abs(z_scores)\n",
    "filtered_entries = (z_scores < 0.5).all(axis=1)\n",
    "new_df = dataset[filtered_entries]\n",
    "outlier_df = dataset[~filtered_entries]\n",
    "\n",
    "\n",
    "z_scores = stats.zscore(new_df[['sent_by_page']])\n",
    "\n",
    "filtered_entries = (z_scores > -1.5).all(axis=1)\n",
    "new_df_1 = new_df[filtered_entries]\n",
    "outlier_df_1 = new_df[~filtered_entries]"
   ]
  },
  {
   "cell_type": "code",
   "execution_count": 320,
   "metadata": {},
   "outputs": [
    {
     "data": {
      "text/plain": [
       "(537, 11)"
      ]
     },
     "execution_count": 320,
     "metadata": {},
     "output_type": "execute_result"
    }
   ],
   "source": [
    "new_df.shape"
   ]
  },
  {
   "cell_type": "code",
   "execution_count": 321,
   "metadata": {},
   "outputs": [
    {
     "data": {
      "text/plain": [
       "(510, 11)"
      ]
     },
     "execution_count": 321,
     "metadata": {},
     "output_type": "execute_result"
    }
   ],
   "source": [
    "new_df_1.shape"
   ]
  },
  {
   "cell_type": "code",
   "execution_count": 42,
   "metadata": {},
   "outputs": [
    {
     "data": {
      "text/plain": [
       "Intelligent Information Systems        85\n",
       "Control and Intelligent Systems        82\n",
       "Data Science and Analysis              61\n",
       "Data Science and Technology            54\n",
       "Mathematics and Computer Science       45\n",
       "Machine Learning Research              39\n",
       "Data Mining and Knowledge Discovery    36\n",
       "Neural Networks and Applications       31\n",
       "Information Science and Technology     31\n",
       "Mathematical and Computer Modelling    27\n",
       "Computer Science and Technology        26\n",
       "Artificial Intelligence                20\n",
       "Name: category, dtype: int64"
      ]
     },
     "execution_count": 42,
     "metadata": {},
     "output_type": "execute_result"
    }
   ],
   "source": [
    "new_df.category.value_counts()"
   ]
  },
  {
   "cell_type": "code",
   "execution_count": 322,
   "metadata": {},
   "outputs": [
    {
     "data": {
      "text/plain": [
       "0     216\n",
       "1      59\n",
       "2      36\n",
       "6      32\n",
       "4      30\n",
       "3      29\n",
       "5      27\n",
       "10     20\n",
       "7      19\n",
       "9      14\n",
       "8      12\n",
       "11     10\n",
       "12      6\n",
       "Name: num_formulas, dtype: int64"
      ]
     },
     "execution_count": 322,
     "metadata": {},
     "output_type": "execute_result"
    }
   ],
   "source": [
    "new_df_1.num_formulas.value_counts()"
   ]
  },
  {
   "cell_type": "code",
   "execution_count": 28,
   "metadata": {},
   "outputs": [
    {
     "data": {
      "image/png": "[encoded data removed]",
      "text/plain": [
       "<Figure size 432x288 with 1 Axes>"
      ]
     },
     "metadata": {
      "needs_background": "light"
     },
     "output_type": "display_data"
    }
   ],
   "source": [
    "plt.xlabel('Number of Pages')\n",
    "plt.ylabel('Number of Sentences')\n",
    "plt.scatter(dataset.num_pages, dataset.num_sentences, s = 10)\n",
    "#plt.savefig('page_vs_sentence.png')\n",
    "plt.show()"
   ]
  },
  {
   "cell_type": "code",
   "execution_count": 23,
   "metadata": {},
   "outputs": [
    {
     "data": {
      "image/png": "[encoded data removed]",
      "text/plain": [
       "<Figure size 432x288 with 1 Axes>"
      ]
     },
     "metadata": {
      "needs_background": "light"
     },
     "output_type": "display_data"
    }
   ],
   "source": [
    "plt.xlabel('Number of Pages')\n",
    "plt.ylabel('Number of Sentences')\n",
    "plt.scatter(new_df_1.num_pages, new_df_1.num_sentences, s = 10)\n",
    "#plt.savefig('page_vs_sentence.png')\n",
    "plt.title('(b)')\n",
    "plt.show()"
   ]
  },
  {
   "cell_type": "code",
   "execution_count": 326,
   "metadata": {},
   "outputs": [],
   "source": [
    "new_df_1.to_csv('papers_dataset.csv', index = False)"
   ]
  },
  {
   "cell_type": "code",
   "execution_count": 39,
   "metadata": {},
   "outputs": [
    {
     "data": {
      "image/png": "[encoded data removed]",
      "text/plain": [
       "<Figure size 432x288 with 2 Axes>"
      ]
     },
     "metadata": {
      "needs_background": "light"
     },
     "output_type": "display_data"
    }
   ],
   "source": [
    "plt.title('(d)')\n",
    "sn.heatmap(np.corrcoef(new_df_1.num_pages.values, new_df_1.num_sentences.values), annot = True);"
   ]
  },
  {
   "cell_type": "code",
   "execution_count": 41,
   "metadata": {},
   "outputs": [
    {
     "data": {
      "image/png": "[encoded data removed]",
      "text/plain": [
       "<Figure size 432x288 with 2 Axes>"
      ]
     },
     "metadata": {
      "needs_background": "light"
     },
     "output_type": "display_data"
    }
   ],
   "source": [
    "plt.title('(c)')\n",
    "sn.heatmap(np.corrcoef(dataset.num_pages.values, dataset.num_sentences.values), annot = True);"
   ]
  },
  {
   "cell_type": "markdown",
   "metadata": {},
   "source": [
    "## Statistical analysis"
   ]
  },
  {
   "cell_type": "code",
   "execution_count": 16,
   "metadata": {},
   "outputs": [
    {
     "data": {
      "text/plain": [
       "7.707898658718331"
      ]
     },
     "execution_count": 16,
     "metadata": {},
     "output_type": "execute_result"
    }
   ],
   "source": [
    "dataset.num_pages.mean()"
   ]
  },
  {
   "cell_type": "code",
   "execution_count": 17,
   "metadata": {},
   "outputs": [
    {
     "data": {
      "text/plain": [
       "2"
      ]
     },
     "execution_count": 17,
     "metadata": {},
     "output_type": "execute_result"
    }
   ],
   "source": [
    "dataset.num_pages.min()"
   ]
  },
  {
   "cell_type": "code",
   "execution_count": 18,
   "metadata": {},
   "outputs": [
    {
     "data": {
      "text/plain": [
       "23"
      ]
     },
     "execution_count": 18,
     "metadata": {},
     "output_type": "execute_result"
    }
   ],
   "source": [
    "dataset.num_pages.max()"
   ]
  },
  {
   "cell_type": "code",
   "execution_count": 19,
   "metadata": {},
   "outputs": [
    {
     "data": {
      "text/html": [
       "<div>\n",
       "<style scoped>\n",
       "    .dataframe tbody tr th:only-of-type {\n",
       "        vertical-align: middle;\n",
       "    }\n",
       "\n",
       "    .dataframe tbody tr th {\n",
       "        vertical-align: top;\n",
       "    }\n",
       "\n",
       "    .dataframe thead th {\n",
       "        text-align: right;\n",
       "    }\n",
       "</style>\n",
       "<table border=\"1\" class=\"dataframe\">\n",
       "  <thead>\n",
       "    <tr style=\"text-align: right;\">\n",
       "      <th></th>\n",
       "      <th>category</th>\n",
       "      <th>counts</th>\n",
       "    </tr>\n",
       "  </thead>\n",
       "  <tbody>\n",
       "    <tr>\n",
       "      <th>0</th>\n",
       "      <td>Artificial Intelligence</td>\n",
       "      <td>21</td>\n",
       "    </tr>\n",
       "    <tr>\n",
       "      <th>1</th>\n",
       "      <td>Computer Science and Technology</td>\n",
       "      <td>29</td>\n",
       "    </tr>\n",
       "    <tr>\n",
       "      <th>2</th>\n",
       "      <td>Control and Intelligent Systems</td>\n",
       "      <td>114</td>\n",
       "    </tr>\n",
       "    <tr>\n",
       "      <th>3</th>\n",
       "      <td>Data Mining and Knowledge Discovery</td>\n",
       "      <td>38</td>\n",
       "    </tr>\n",
       "    <tr>\n",
       "      <th>4</th>\n",
       "      <td>Data Science and Analysis</td>\n",
       "      <td>80</td>\n",
       "    </tr>\n",
       "    <tr>\n",
       "      <th>5</th>\n",
       "      <td>Data Science and Technology</td>\n",
       "      <td>60</td>\n",
       "    </tr>\n",
       "    <tr>\n",
       "      <th>6</th>\n",
       "      <td>Information Science and Technology</td>\n",
       "      <td>32</td>\n",
       "    </tr>\n",
       "    <tr>\n",
       "      <th>7</th>\n",
       "      <td>Intelligent Information Systems</td>\n",
       "      <td>93</td>\n",
       "    </tr>\n",
       "    <tr>\n",
       "      <th>8</th>\n",
       "      <td>Machine Learning Research</td>\n",
       "      <td>48</td>\n",
       "    </tr>\n",
       "    <tr>\n",
       "      <th>9</th>\n",
       "      <td>Mathematical and Computer Modelling</td>\n",
       "      <td>46</td>\n",
       "    </tr>\n",
       "    <tr>\n",
       "      <th>10</th>\n",
       "      <td>Mathematics and Computer Science</td>\n",
       "      <td>75</td>\n",
       "    </tr>\n",
       "    <tr>\n",
       "      <th>11</th>\n",
       "      <td>Neural Networks and Applications</td>\n",
       "      <td>35</td>\n",
       "    </tr>\n",
       "  </tbody>\n",
       "</table>\n",
       "</div>"
      ],
      "text/plain": [
       "                               category  counts\n",
       "0               Artificial Intelligence      21\n",
       "1       Computer Science and Technology      29\n",
       "2       Control and Intelligent Systems     114\n",
       "3   Data Mining and Knowledge Discovery      38\n",
       "4             Data Science and Analysis      80\n",
       "5           Data Science and Technology      60\n",
       "6    Information Science and Technology      32\n",
       "7       Intelligent Information Systems      93\n",
       "8             Machine Learning Research      48\n",
       "9   Mathematical and Computer Modelling      46\n",
       "10     Mathematics and Computer Science      75\n",
       "11     Neural Networks and Applications      35"
      ]
     },
     "execution_count": 19,
     "metadata": {},
     "output_type": "execute_result"
    }
   ],
   "source": [
    "dataset.groupby('category').size().reset_index(name='counts')"
   ]
  },
  {
   "cell_type": "code",
   "execution_count": 20,
   "metadata": {
    "scrolled": true
   },
   "outputs": [
    {
     "data": {
      "text/html": [
       "<div>\n",
       "<style scoped>\n",
       "    .dataframe tbody tr th:only-of-type {\n",
       "        vertical-align: middle;\n",
       "    }\n",
       "\n",
       "    .dataframe tbody tr th {\n",
       "        vertical-align: top;\n",
       "    }\n",
       "\n",
       "    .dataframe thead th {\n",
       "        text-align: right;\n",
       "    }\n",
       "</style>\n",
       "<table border=\"1\" class=\"dataframe\">\n",
       "  <thead>\n",
       "    <tr style=\"text-align: right;\">\n",
       "      <th></th>\n",
       "      <th>num_pages</th>\n",
       "      <th>counts</th>\n",
       "    </tr>\n",
       "  </thead>\n",
       "  <tbody>\n",
       "    <tr>\n",
       "      <th>0</th>\n",
       "      <td>2</td>\n",
       "      <td>1</td>\n",
       "    </tr>\n",
       "    <tr>\n",
       "      <th>1</th>\n",
       "      <td>3</td>\n",
       "      <td>5</td>\n",
       "    </tr>\n",
       "    <tr>\n",
       "      <th>2</th>\n",
       "      <td>4</td>\n",
       "      <td>58</td>\n",
       "    </tr>\n",
       "    <tr>\n",
       "      <th>3</th>\n",
       "      <td>5</td>\n",
       "      <td>106</td>\n",
       "    </tr>\n",
       "    <tr>\n",
       "      <th>4</th>\n",
       "      <td>6</td>\n",
       "      <td>108</td>\n",
       "    </tr>\n",
       "    <tr>\n",
       "      <th>5</th>\n",
       "      <td>7</td>\n",
       "      <td>105</td>\n",
       "    </tr>\n",
       "    <tr>\n",
       "      <th>6</th>\n",
       "      <td>8</td>\n",
       "      <td>81</td>\n",
       "    </tr>\n",
       "    <tr>\n",
       "      <th>7</th>\n",
       "      <td>9</td>\n",
       "      <td>55</td>\n",
       "    </tr>\n",
       "    <tr>\n",
       "      <th>8</th>\n",
       "      <td>10</td>\n",
       "      <td>46</td>\n",
       "    </tr>\n",
       "    <tr>\n",
       "      <th>9</th>\n",
       "      <td>11</td>\n",
       "      <td>35</td>\n",
       "    </tr>\n",
       "    <tr>\n",
       "      <th>10</th>\n",
       "      <td>12</td>\n",
       "      <td>21</td>\n",
       "    </tr>\n",
       "    <tr>\n",
       "      <th>11</th>\n",
       "      <td>13</td>\n",
       "      <td>11</td>\n",
       "    </tr>\n",
       "    <tr>\n",
       "      <th>12</th>\n",
       "      <td>14</td>\n",
       "      <td>12</td>\n",
       "    </tr>\n",
       "    <tr>\n",
       "      <th>13</th>\n",
       "      <td>15</td>\n",
       "      <td>8</td>\n",
       "    </tr>\n",
       "    <tr>\n",
       "      <th>14</th>\n",
       "      <td>16</td>\n",
       "      <td>7</td>\n",
       "    </tr>\n",
       "    <tr>\n",
       "      <th>15</th>\n",
       "      <td>17</td>\n",
       "      <td>4</td>\n",
       "    </tr>\n",
       "    <tr>\n",
       "      <th>16</th>\n",
       "      <td>18</td>\n",
       "      <td>3</td>\n",
       "    </tr>\n",
       "    <tr>\n",
       "      <th>17</th>\n",
       "      <td>19</td>\n",
       "      <td>1</td>\n",
       "    </tr>\n",
       "    <tr>\n",
       "      <th>18</th>\n",
       "      <td>21</td>\n",
       "      <td>3</td>\n",
       "    </tr>\n",
       "    <tr>\n",
       "      <th>19</th>\n",
       "      <td>23</td>\n",
       "      <td>1</td>\n",
       "    </tr>\n",
       "  </tbody>\n",
       "</table>\n",
       "</div>"
      ],
      "text/plain": [
       "    num_pages  counts\n",
       "0           2       1\n",
       "1           3       5\n",
       "2           4      58\n",
       "3           5     106\n",
       "4           6     108\n",
       "5           7     105\n",
       "6           8      81\n",
       "7           9      55\n",
       "8          10      46\n",
       "9          11      35\n",
       "10         12      21\n",
       "11         13      11\n",
       "12         14      12\n",
       "13         15       8\n",
       "14         16       7\n",
       "15         17       4\n",
       "16         18       3\n",
       "17         19       1\n",
       "18         21       3\n",
       "19         23       1"
      ]
     },
     "execution_count": 20,
     "metadata": {},
     "output_type": "execute_result"
    }
   ],
   "source": [
    "dataset.groupby('num_pages').size().reset_index(name='counts')"
   ]
  },
  {
   "cell_type": "code",
   "execution_count": 31,
   "metadata": {},
   "outputs": [
    {
     "data": {
      "image/png": "[encoded data removed]",
      "text/plain": [
       "<Figure size 432x288 with 1 Axes>"
      ]
     },
     "metadata": {
      "needs_background": "light"
     },
     "output_type": "display_data"
    }
   ],
   "source": [
    "#plt.figure(figsize = (10, 8))\n",
    "plt.hist(dataset.num_pages, bins = 20)\n",
    "plt.vlines(dataset.num_pages.mean(), ymin = 0, ymax = 108, color = 'r', \n",
    "           label = f'mean={np.round(dataset.num_pages.mean())}')\n",
    "plt.xlabel('Number of Pages')\n",
    "plt.ylabel('Count')\n",
    "plt.title(\"Page Numbers' Distribution\")\n",
    "plt.legend()\n",
    "#plt.savefig('page_distribution.png')\n",
    "plt.show()"
   ]
  },
  {
   "cell_type": "code",
   "execution_count": 60,
   "metadata": {},
   "outputs": [
    {
     "data": {
      "image/png": "[encoded data removed]",
      "text/plain": [
       "<Figure size 432x288 with 1 Axes>"
      ]
     },
     "metadata": {
      "needs_background": "light"
     },
     "output_type": "display_data"
    }
   ],
   "source": [
    "plt.hist(dataset.num_sentences, bins = 30)\n",
    "plt.vlines(dataset.num_sentences.mean(), ymin = 0, ymax = 104, color = 'r', \n",
    "           label = f'mean={np.round(dataset.num_sentences.mean())}')\n",
    "plt.xlabel('Number of Sentences')\n",
    "plt.ylabel('Count')\n",
    "plt.title(\"Sentence Numbers' Distribution\")\n",
    "plt.legend()\n",
    "plt.savefig('sentence_distribution.png')\n",
    "plt.show()"
   ]
  },
  {
   "cell_type": "code",
   "execution_count": null,
   "metadata": {},
   "outputs": [],
   "source": []
  }
 ],
 "metadata": {
  "kernelspec": {
   "display_name": "Python 3",
   "language": "python",
   "name": "python3"
  },
  "language_info": {
   "codemirror_mode": {
    "name": "ipython",
    "version": 3
   },
   "file_extension": ".py",
   "mimetype": "text/x-python",
   "name": "python",
   "nbconvert_exporter": "python",
   "pygments_lexer": "ipython3",
   "version": "3.7.1"
  }
 },
 "nbformat": 4,
 "nbformat_minor": 4
}
